{
 "cells": [
  {
   "cell_type": "markdown",
   "metadata": {},
   "source": [
    "# Overfitting demo\n",
    "\n",
    "## Create a dataset based on a true sinusoidal relationship\n",
    "Let's look at a synthetic dataset consisting of 30 points drawn from the sinusoid $y = \\sin(4x)$:"
   ]
  },
  {
   "cell_type": "code",
   "execution_count": 1,
   "metadata": {},
   "outputs": [],
   "source": [
    "import pandas as pd\n",
    "import math\n",
    "import random\n",
    "import numpy as np\n",
    "from matplotlib import pyplot as plt\n",
    "%matplotlib inline"
   ]
  },
  {
   "cell_type": "markdown",
   "metadata": {},
   "source": [
    "Create random values for x in interval [0,1)"
   ]
  },
  {
   "cell_type": "code",
   "execution_count": 191,
   "metadata": {
    "scrolled": true
   },
   "outputs": [
    {
     "name": "stdout",
     "output_type": "stream",
     "text": [
      "[-1.13027482  0.92709144 -0.99511234 -0.4651923  -0.10382573  0.52812847\n",
      " -0.51736124 -0.24018072 -0.54882641 -1.0584972   1.04095866  1.06218588\n",
      " -1.4525052  -1.21909889  0.25689966  0.65238726  0.07140878 -1.27572174\n",
      "  0.90007642 -0.03440285  0.74872192  0.63038625  0.54270082  0.13990433\n",
      " -0.28843639 -1.81766376 -1.78800044 -0.10752399 -1.02684656 -1.35646154]\n"
     ]
    }
   ],
   "source": [
    "random.seed(98103)\n",
    "n = 30\n",
    "b = {}\n",
    "x = np.array([np.random.randn () for i in range(n)])\n",
    "print(x)\n"
   ]
  },
  {
   "cell_type": "markdown",
   "metadata": {},
   "source": [
    "Just other version of above detailed\n",
    "\n",
    "for i in range(1,n):\n",
    "    a = np.random.randn()\n",
    "    #print(a)\n",
    "    b[i]=(a)\n",
    "    #x= np.sort(x)\n",
    "#x = np.array([random.random() for i in range(n)]).sort()\n",
    "print(b)"
   ]
  },
  {
   "cell_type": "markdown",
   "metadata": {},
   "source": [
    "Compute y"
   ]
  },
  {
   "cell_type": "code",
   "execution_count": 192,
   "metadata": {
    "scrolled": true
   },
   "outputs": [
    {
     "data": {
      "text/plain": [
       "array([ 0.98175985, -0.53691253,  0.74387951, -0.95825163, -0.4034671 ,\n",
       "        0.85682436, -0.87822964, -0.81960595, -0.81125012,  0.88773256,\n",
       "       -0.85327925, -0.89442816,  0.45570537,  0.98658104,  0.85606025,\n",
       "        0.50729555,  0.28176691,  0.92471962, -0.44279456, -0.1371775 ,\n",
       "        0.14617932,  0.58107395,  0.82533169,  0.53086192, -0.91428755,\n",
       "       -0.83463498, -0.76356523, -0.41695804,  0.82250053,  0.75610385])"
      ]
     },
     "execution_count": 192,
     "metadata": {},
     "output_type": "execute_result"
    }
   ],
   "source": [
    "y = np.array([math.sin(4*i) for i in x])\n",
    "y"
   ]
  },
  {
   "cell_type": "markdown",
   "metadata": {},
   "source": [
    "Just detailed of above with dict\n",
    "\n",
    "d ={}\n",
    "j = 0\n",
    "\n",
    "for i in b.values():\n",
    "    y = math.sin(4*i)\n",
    "    #print(i,y)\n",
    "    j += 1\n",
    "    d[j] = y\n",
    "    \n",
    "print(d)"
   ]
  },
  {
   "cell_type": "markdown",
   "metadata": {},
   "source": [
    "Add random Gaussian noise to y"
   ]
  },
  {
   "cell_type": "code",
   "execution_count": 193,
   "metadata": {},
   "outputs": [
    {
     "data": {
      "text/plain": [
       "array([ 3.05075949, -0.04414425,  1.01575905, -0.44471282,  0.03917841,\n",
       "       -0.03823817, -1.73867484, -2.07527938, -0.71274889,  0.16101542,\n",
       "       -1.19258821, -1.21458923,  1.27015046,  0.92871896,  0.29256291,\n",
       "        0.39732518, -0.20278581,  2.32916481,  0.60118282,  0.12789412,\n",
       "        0.52779715,  2.81251912,  0.28604282, -0.75933493, -0.80012413,\n",
       "        0.13419954, -0.56440398,  0.55650616,  0.92133583,  0.4505479 ])"
      ]
     },
     "execution_count": 193,
     "metadata": {},
     "output_type": "execute_result"
    }
   ],
   "source": [
    "random.seed(1)\n",
    "e = np.array([np.random.randn() for i in range(n)])\n",
    "#print(e)\n",
    "y = y + e\n",
    "y"
   ]
  },
  {
   "cell_type": "markdown",
   "metadata": {},
   "source": [
    "### Put data into an DataFrame to manipulate later"
   ]
  },
  {
   "cell_type": "code",
   "execution_count": 194,
   "metadata": {
    "scrolled": true
   },
   "outputs": [
    {
     "data": {
      "text/html": [
       "<div>\n",
       "<style scoped>\n",
       "    .dataframe tbody tr th:only-of-type {\n",
       "        vertical-align: middle;\n",
       "    }\n",
       "\n",
       "    .dataframe tbody tr th {\n",
       "        vertical-align: top;\n",
       "    }\n",
       "\n",
       "    .dataframe thead th {\n",
       "        text-align: right;\n",
       "    }\n",
       "</style>\n",
       "<table border=\"1\" class=\"dataframe\">\n",
       "  <thead>\n",
       "    <tr style=\"text-align: right;\">\n",
       "      <th></th>\n",
       "      <th>X1</th>\n",
       "      <th>Y</th>\n",
       "    </tr>\n",
       "  </thead>\n",
       "  <tbody>\n",
       "    <tr>\n",
       "      <th>0</th>\n",
       "      <td>-1.130275</td>\n",
       "      <td>3.050759</td>\n",
       "    </tr>\n",
       "    <tr>\n",
       "      <th>1</th>\n",
       "      <td>0.927091</td>\n",
       "      <td>-0.044144</td>\n",
       "    </tr>\n",
       "    <tr>\n",
       "      <th>2</th>\n",
       "      <td>-0.995112</td>\n",
       "      <td>1.015759</td>\n",
       "    </tr>\n",
       "    <tr>\n",
       "      <th>3</th>\n",
       "      <td>-0.465192</td>\n",
       "      <td>-0.444713</td>\n",
       "    </tr>\n",
       "    <tr>\n",
       "      <th>4</th>\n",
       "      <td>-0.103826</td>\n",
       "      <td>0.039178</td>\n",
       "    </tr>\n",
       "    <tr>\n",
       "      <th>5</th>\n",
       "      <td>0.528128</td>\n",
       "      <td>-0.038238</td>\n",
       "    </tr>\n",
       "    <tr>\n",
       "      <th>6</th>\n",
       "      <td>-0.517361</td>\n",
       "      <td>-1.738675</td>\n",
       "    </tr>\n",
       "    <tr>\n",
       "      <th>7</th>\n",
       "      <td>-0.240181</td>\n",
       "      <td>-2.075279</td>\n",
       "    </tr>\n",
       "    <tr>\n",
       "      <th>8</th>\n",
       "      <td>-0.548826</td>\n",
       "      <td>-0.712749</td>\n",
       "    </tr>\n",
       "    <tr>\n",
       "      <th>9</th>\n",
       "      <td>-1.058497</td>\n",
       "      <td>0.161015</td>\n",
       "    </tr>\n",
       "    <tr>\n",
       "      <th>10</th>\n",
       "      <td>1.040959</td>\n",
       "      <td>-1.192588</td>\n",
       "    </tr>\n",
       "    <tr>\n",
       "      <th>11</th>\n",
       "      <td>1.062186</td>\n",
       "      <td>-1.214589</td>\n",
       "    </tr>\n",
       "    <tr>\n",
       "      <th>12</th>\n",
       "      <td>-1.452505</td>\n",
       "      <td>1.270150</td>\n",
       "    </tr>\n",
       "    <tr>\n",
       "      <th>13</th>\n",
       "      <td>-1.219099</td>\n",
       "      <td>0.928719</td>\n",
       "    </tr>\n",
       "    <tr>\n",
       "      <th>14</th>\n",
       "      <td>0.256900</td>\n",
       "      <td>0.292563</td>\n",
       "    </tr>\n",
       "    <tr>\n",
       "      <th>15</th>\n",
       "      <td>0.652387</td>\n",
       "      <td>0.397325</td>\n",
       "    </tr>\n",
       "    <tr>\n",
       "      <th>16</th>\n",
       "      <td>0.071409</td>\n",
       "      <td>-0.202786</td>\n",
       "    </tr>\n",
       "    <tr>\n",
       "      <th>17</th>\n",
       "      <td>-1.275722</td>\n",
       "      <td>2.329165</td>\n",
       "    </tr>\n",
       "    <tr>\n",
       "      <th>18</th>\n",
       "      <td>0.900076</td>\n",
       "      <td>0.601183</td>\n",
       "    </tr>\n",
       "    <tr>\n",
       "      <th>19</th>\n",
       "      <td>-0.034403</td>\n",
       "      <td>0.127894</td>\n",
       "    </tr>\n",
       "    <tr>\n",
       "      <th>20</th>\n",
       "      <td>0.748722</td>\n",
       "      <td>0.527797</td>\n",
       "    </tr>\n",
       "    <tr>\n",
       "      <th>21</th>\n",
       "      <td>0.630386</td>\n",
       "      <td>2.812519</td>\n",
       "    </tr>\n",
       "    <tr>\n",
       "      <th>22</th>\n",
       "      <td>0.542701</td>\n",
       "      <td>0.286043</td>\n",
       "    </tr>\n",
       "    <tr>\n",
       "      <th>23</th>\n",
       "      <td>0.139904</td>\n",
       "      <td>-0.759335</td>\n",
       "    </tr>\n",
       "    <tr>\n",
       "      <th>24</th>\n",
       "      <td>-0.288436</td>\n",
       "      <td>-0.800124</td>\n",
       "    </tr>\n",
       "    <tr>\n",
       "      <th>25</th>\n",
       "      <td>-1.817664</td>\n",
       "      <td>0.134200</td>\n",
       "    </tr>\n",
       "    <tr>\n",
       "      <th>26</th>\n",
       "      <td>-1.788000</td>\n",
       "      <td>-0.564404</td>\n",
       "    </tr>\n",
       "    <tr>\n",
       "      <th>27</th>\n",
       "      <td>-0.107524</td>\n",
       "      <td>0.556506</td>\n",
       "    </tr>\n",
       "    <tr>\n",
       "      <th>28</th>\n",
       "      <td>-1.026847</td>\n",
       "      <td>0.921336</td>\n",
       "    </tr>\n",
       "    <tr>\n",
       "      <th>29</th>\n",
       "      <td>-1.356462</td>\n",
       "      <td>0.450548</td>\n",
       "    </tr>\n",
       "  </tbody>\n",
       "</table>\n",
       "</div>"
      ],
      "text/plain": [
       "          X1         Y\n",
       "0  -1.130275  3.050759\n",
       "1   0.927091 -0.044144\n",
       "2  -0.995112  1.015759\n",
       "3  -0.465192 -0.444713\n",
       "4  -0.103826  0.039178\n",
       "5   0.528128 -0.038238\n",
       "6  -0.517361 -1.738675\n",
       "7  -0.240181 -2.075279\n",
       "8  -0.548826 -0.712749\n",
       "9  -1.058497  0.161015\n",
       "10  1.040959 -1.192588\n",
       "11  1.062186 -1.214589\n",
       "12 -1.452505  1.270150\n",
       "13 -1.219099  0.928719\n",
       "14  0.256900  0.292563\n",
       "15  0.652387  0.397325\n",
       "16  0.071409 -0.202786\n",
       "17 -1.275722  2.329165\n",
       "18  0.900076  0.601183\n",
       "19 -0.034403  0.127894\n",
       "20  0.748722  0.527797\n",
       "21  0.630386  2.812519\n",
       "22  0.542701  0.286043\n",
       "23  0.139904 -0.759335\n",
       "24 -0.288436 -0.800124\n",
       "25 -1.817664  0.134200\n",
       "26 -1.788000 -0.564404\n",
       "27 -0.107524  0.556506\n",
       "28 -1.026847  0.921336\n",
       "29 -1.356462  0.450548"
      ]
     },
     "execution_count": 194,
     "metadata": {},
     "output_type": "execute_result"
    }
   ],
   "source": [
    "data = pd.DataFrame({'X1':x,'Y':y})\n",
    "data"
   ]
  },
  {
   "cell_type": "markdown",
   "metadata": {},
   "source": [
    "### Create a function to plot the data, since we'll do it many times"
   ]
  },
  {
   "cell_type": "code",
   "execution_count": 195,
   "metadata": {},
   "outputs": [
    {
     "data": {
      "image/png": "[encoded data removed]",
      "text/plain": [
       "<Figure size 432x288 with 1 Axes>"
      ]
     },
     "metadata": {
      "needs_background": "light"
     },
     "output_type": "display_data"
    }
   ],
   "source": [
    "def plot_data(data):    \n",
    "    plt.plot(data['X1'],data['Y'],'r+')\n",
    "    # here plotting is done bw x1 vs y and r+ is color name as r->red , and + is symbol \n",
    "    # we can change to b_ as blue dash , y* as yellow * \n",
    "    plt.xlabel('x')\n",
    "    plt.ylabel('y')\n",
    "\n",
    "plot_data(data)"
   ]
  },
  {
   "cell_type": "markdown",
   "metadata": {},
   "source": [
    "## Define some useful polynomial regression functions"
   ]
  },
  {
   "cell_type": "markdown",
   "metadata": {},
   "source": [
    "Define a function to create our features for a polynomial regression model of any degree:"
   ]
  },
  {
   "cell_type": "code",
   "execution_count": 196,
   "metadata": {},
   "outputs": [],
   "source": [
    "def polynomial_features(data, deg):\n",
    "    data_copy = data.copy()\n",
    "    for i in range(1,deg):\n",
    "        data_copy['X'+str(i+1)]=data_copy['X'+str(i)]*data_copy['X1']\n",
    "    return data_copy"
   ]
  },
  {
   "cell_type": "code",
   "execution_count": 197,
   "metadata": {},
   "outputs": [],
   "source": [
    "y = data['Y']\n",
    "x =data.drop('Y',axis =1)\n",
    "#print(x,y)"
   ]
  },
  {
   "cell_type": "markdown",
   "metadata": {},
   "source": [
    "Define a function to fit a polynomial linear regression model of degree \"deg\" to the data in \"data\":"
   ]
  },
  {
   "cell_type": "code",
   "execution_count": 198,
   "metadata": {
    "scrolled": true
   },
   "outputs": [
    {
     "data": {
      "text/html": [
       "<div>\n",
       "<style scoped>\n",
       "    .dataframe tbody tr th:only-of-type {\n",
       "        vertical-align: middle;\n",
       "    }\n",
       "\n",
       "    .dataframe tbody tr th {\n",
       "        vertical-align: top;\n",
       "    }\n",
       "\n",
       "    .dataframe thead th {\n",
       "        text-align: right;\n",
       "    }\n",
       "</style>\n",
       "<table border=\"1\" class=\"dataframe\">\n",
       "  <thead>\n",
       "    <tr style=\"text-align: right;\">\n",
       "      <th></th>\n",
       "      <th>X1</th>\n",
       "      <th>X2</th>\n",
       "      <th>X3</th>\n",
       "    </tr>\n",
       "  </thead>\n",
       "  <tbody>\n",
       "    <tr>\n",
       "      <th>0</th>\n",
       "      <td>-1.130275</td>\n",
       "      <td>1.277521</td>\n",
       "      <td>-1.443950</td>\n",
       "    </tr>\n",
       "    <tr>\n",
       "      <th>1</th>\n",
       "      <td>0.927091</td>\n",
       "      <td>0.859499</td>\n",
       "      <td>0.796834</td>\n",
       "    </tr>\n",
       "    <tr>\n",
       "      <th>2</th>\n",
       "      <td>-0.995112</td>\n",
       "      <td>0.990249</td>\n",
       "      <td>-0.985409</td>\n",
       "    </tr>\n",
       "    <tr>\n",
       "      <th>3</th>\n",
       "      <td>-0.465192</td>\n",
       "      <td>0.216404</td>\n",
       "      <td>-0.100669</td>\n",
       "    </tr>\n",
       "    <tr>\n",
       "      <th>4</th>\n",
       "      <td>-0.103826</td>\n",
       "      <td>0.010780</td>\n",
       "      <td>-0.001119</td>\n",
       "    </tr>\n",
       "    <tr>\n",
       "      <th>5</th>\n",
       "      <td>0.528128</td>\n",
       "      <td>0.278920</td>\n",
       "      <td>0.147305</td>\n",
       "    </tr>\n",
       "    <tr>\n",
       "      <th>6</th>\n",
       "      <td>-0.517361</td>\n",
       "      <td>0.267663</td>\n",
       "      <td>-0.138478</td>\n",
       "    </tr>\n",
       "    <tr>\n",
       "      <th>7</th>\n",
       "      <td>-0.240181</td>\n",
       "      <td>0.057687</td>\n",
       "      <td>-0.013855</td>\n",
       "    </tr>\n",
       "    <tr>\n",
       "      <th>8</th>\n",
       "      <td>-0.548826</td>\n",
       "      <td>0.301210</td>\n",
       "      <td>-0.165312</td>\n",
       "    </tr>\n",
       "    <tr>\n",
       "      <th>9</th>\n",
       "      <td>-1.058497</td>\n",
       "      <td>1.120416</td>\n",
       "      <td>-1.185958</td>\n",
       "    </tr>\n",
       "    <tr>\n",
       "      <th>10</th>\n",
       "      <td>1.040959</td>\n",
       "      <td>1.083595</td>\n",
       "      <td>1.127978</td>\n",
       "    </tr>\n",
       "    <tr>\n",
       "      <th>11</th>\n",
       "      <td>1.062186</td>\n",
       "      <td>1.128239</td>\n",
       "      <td>1.198399</td>\n",
       "    </tr>\n",
       "    <tr>\n",
       "      <th>12</th>\n",
       "      <td>-1.452505</td>\n",
       "      <td>2.109771</td>\n",
       "      <td>-3.064454</td>\n",
       "    </tr>\n",
       "    <tr>\n",
       "      <th>13</th>\n",
       "      <td>-1.219099</td>\n",
       "      <td>1.486202</td>\n",
       "      <td>-1.811827</td>\n",
       "    </tr>\n",
       "    <tr>\n",
       "      <th>14</th>\n",
       "      <td>0.256900</td>\n",
       "      <td>0.065997</td>\n",
       "      <td>0.016955</td>\n",
       "    </tr>\n",
       "    <tr>\n",
       "      <th>15</th>\n",
       "      <td>0.652387</td>\n",
       "      <td>0.425609</td>\n",
       "      <td>0.277662</td>\n",
       "    </tr>\n",
       "    <tr>\n",
       "      <th>16</th>\n",
       "      <td>0.071409</td>\n",
       "      <td>0.005099</td>\n",
       "      <td>0.000364</td>\n",
       "    </tr>\n",
       "    <tr>\n",
       "      <th>17</th>\n",
       "      <td>-1.275722</td>\n",
       "      <td>1.627466</td>\n",
       "      <td>-2.076194</td>\n",
       "    </tr>\n",
       "    <tr>\n",
       "      <th>18</th>\n",
       "      <td>0.900076</td>\n",
       "      <td>0.810138</td>\n",
       "      <td>0.729186</td>\n",
       "    </tr>\n",
       "    <tr>\n",
       "      <th>19</th>\n",
       "      <td>-0.034403</td>\n",
       "      <td>0.001184</td>\n",
       "      <td>-0.000041</td>\n",
       "    </tr>\n",
       "    <tr>\n",
       "      <th>20</th>\n",
       "      <td>0.748722</td>\n",
       "      <td>0.560585</td>\n",
       "      <td>0.419722</td>\n",
       "    </tr>\n",
       "    <tr>\n",
       "      <th>21</th>\n",
       "      <td>0.630386</td>\n",
       "      <td>0.397387</td>\n",
       "      <td>0.250507</td>\n",
       "    </tr>\n",
       "    <tr>\n",
       "      <th>22</th>\n",
       "      <td>0.542701</td>\n",
       "      <td>0.294524</td>\n",
       "      <td>0.159839</td>\n",
       "    </tr>\n",
       "    <tr>\n",
       "      <th>23</th>\n",
       "      <td>0.139904</td>\n",
       "      <td>0.019573</td>\n",
       "      <td>0.002738</td>\n",
       "    </tr>\n",
       "    <tr>\n",
       "      <th>24</th>\n",
       "      <td>-0.288436</td>\n",
       "      <td>0.083196</td>\n",
       "      <td>-0.023997</td>\n",
       "    </tr>\n",
       "    <tr>\n",
       "      <th>25</th>\n",
       "      <td>-1.817664</td>\n",
       "      <td>3.303902</td>\n",
       "      <td>-6.005382</td>\n",
       "    </tr>\n",
       "    <tr>\n",
       "      <th>26</th>\n",
       "      <td>-1.788000</td>\n",
       "      <td>3.196946</td>\n",
       "      <td>-5.716140</td>\n",
       "    </tr>\n",
       "    <tr>\n",
       "      <th>27</th>\n",
       "      <td>-0.107524</td>\n",
       "      <td>0.011561</td>\n",
       "      <td>-0.001243</td>\n",
       "    </tr>\n",
       "    <tr>\n",
       "      <th>28</th>\n",
       "      <td>-1.026847</td>\n",
       "      <td>1.054414</td>\n",
       "      <td>-1.082721</td>\n",
       "    </tr>\n",
       "    <tr>\n",
       "      <th>29</th>\n",
       "      <td>-1.356462</td>\n",
       "      <td>1.839988</td>\n",
       "      <td>-2.495873</td>\n",
       "    </tr>\n",
       "  </tbody>\n",
       "</table>\n",
       "</div>"
      ],
      "text/plain": [
       "          X1        X2        X3\n",
       "0  -1.130275  1.277521 -1.443950\n",
       "1   0.927091  0.859499  0.796834\n",
       "2  -0.995112  0.990249 -0.985409\n",
       "3  -0.465192  0.216404 -0.100669\n",
       "4  -0.103826  0.010780 -0.001119\n",
       "5   0.528128  0.278920  0.147305\n",
       "6  -0.517361  0.267663 -0.138478\n",
       "7  -0.240181  0.057687 -0.013855\n",
       "8  -0.548826  0.301210 -0.165312\n",
       "9  -1.058497  1.120416 -1.185958\n",
       "10  1.040959  1.083595  1.127978\n",
       "11  1.062186  1.128239  1.198399\n",
       "12 -1.452505  2.109771 -3.064454\n",
       "13 -1.219099  1.486202 -1.811827\n",
       "14  0.256900  0.065997  0.016955\n",
       "15  0.652387  0.425609  0.277662\n",
       "16  0.071409  0.005099  0.000364\n",
       "17 -1.275722  1.627466 -2.076194\n",
       "18  0.900076  0.810138  0.729186\n",
       "19 -0.034403  0.001184 -0.000041\n",
       "20  0.748722  0.560585  0.419722\n",
       "21  0.630386  0.397387  0.250507\n",
       "22  0.542701  0.294524  0.159839\n",
       "23  0.139904  0.019573  0.002738\n",
       "24 -0.288436  0.083196 -0.023997\n",
       "25 -1.817664  3.303902 -6.005382\n",
       "26 -1.788000  3.196946 -5.716140\n",
       "27 -0.107524  0.011561 -0.001243\n",
       "28 -1.026847  1.054414 -1.082721\n",
       "29 -1.356462  1.839988 -2.495873"
      ]
     },
     "execution_count": 198,
     "metadata": {},
     "output_type": "execute_result"
    }
   ],
   "source": [
    "w = polynomial_features(x,deg=3)\n",
    "w"
   ]
  },
  {
   "cell_type": "code",
   "execution_count": 199,
   "metadata": {},
   "outputs": [],
   "source": [
    "from sklearn.linear_model import LinearRegression\n",
    "def polynomial_regression(data, deg, out , model ):\n",
    "    model = model()\n",
    "    x = polynomial_features(data,deg)\n",
    "    y = out \n",
    "    model.fit(x,y)\n",
    "    pred_y = model.predict(x)\n",
    "    return model ,pred_y\n"
   ]
  },
  {
   "cell_type": "code",
   "execution_count": 200,
   "metadata": {
    "scrolled": true
   },
   "outputs": [
    {
     "data": {
      "text/plain": [
       "LinearRegression(copy_X=True, fit_intercept=True, n_jobs=None,\n",
       "         normalize=False)"
      ]
     },
     "execution_count": 200,
     "metadata": {},
     "output_type": "execute_result"
    }
   ],
   "source": [
    "li_model = LinearRegression\n",
    "model,pred_y = polynomial_regression(x ,3 ,y , li_model)\n",
    "model"
   ]
  },
  {
   "cell_type": "code",
   "execution_count": 201,
   "metadata": {
    "scrolled": true
   },
   "outputs": [
    {
     "name": "stdout",
     "output_type": "stream",
     "text": [
      "[ 0.59591789  0.04062551  0.52650095  0.18469536 -0.03501367 -0.17038448\n",
      "  0.21971124  0.04121856  0.2409601   0.56058223  0.15851657  0.18368271\n",
      "  0.69837963  0.63410991 -0.16753168 -0.13528339 -0.11428429  0.65484371\n",
      "  0.01674419 -0.06928613 -0.08989138 -0.14336086 -0.16755865 -0.13807418\n",
      "  0.07050074  0.65904428  0.6699279  -0.03309363  0.54387719  0.67895914]\n"
     ]
    }
   ],
   "source": [
    "model.coef_\n",
    "print(pred_y)"
   ]
  },
  {
   "cell_type": "code",
   "execution_count": 202,
   "metadata": {
    "scrolled": true
   },
   "outputs": [
    {
     "name": "stdout",
     "output_type": "stream",
     "text": [
      "36.767122844426936\n",
      "0     2.454842\n",
      "1    -0.084770\n",
      "2     0.489258\n",
      "3    -0.629408\n",
      "4     0.074192\n",
      "5     0.132146\n",
      "6    -1.958386\n",
      "7    -2.116498\n",
      "8    -0.953709\n",
      "9    -0.399567\n",
      "10   -1.351105\n",
      "11   -1.398272\n",
      "12    0.571771\n",
      "13    0.294609\n",
      "14    0.460095\n",
      "15    0.532609\n",
      "16   -0.088502\n",
      "17    1.674321\n",
      "18    0.584439\n",
      "19    0.197180\n",
      "20    0.617689\n",
      "21    2.955880\n",
      "22    0.453601\n",
      "23   -0.621261\n",
      "24   -0.870625\n",
      "25   -0.524845\n",
      "26   -1.234332\n",
      "27    0.589600\n",
      "28    0.377459\n",
      "29   -0.228411\n",
      "Name: Y, dtype: float64\n"
     ]
    }
   ],
   "source": [
    "res = (y - pred_y)\n",
    "RSS = sum(res**2)\n",
    "print( RSS)\n",
    "print(res)\n"
   ]
  },
  {
   "cell_type": "markdown",
   "metadata": {},
   "source": [
    "Define function to plot data and predictions made, since we are going to use it many times."
   ]
  },
  {
   "cell_type": "code",
   "execution_count": 227,
   "metadata": {},
   "outputs": [],
   "source": [
    "def plot_poly_predictions(data, model):\n",
    "    plot_data(data)\n",
    "\n",
    "    # Get the degree of the polynomial\n",
    "    deg = len(model.coef_)\n",
    "    \n",
    "    # Create 200 points in the x axis and compute the predicted value for each point\n",
    "    x_pred = pd.DataFrame({'X1':[i/200.0 for i in range(200)]})\n",
    "    y_pred = model.predict(polynomial_features(x_pred,deg))\n",
    "    \n",
    "    # plot predictions\n",
    "    plt.plot(x_pred['X1'], y_pred, 'g-', label='degree ' + str(deg) + ' fit')\n",
    "    plt.legend(loc='upper left')\n",
    "    plt.axis([0,1,-1.5,2])"
   ]
  },
  {
   "cell_type": "code",
   "execution_count": 229,
   "metadata": {},
   "outputs": [
    {
     "data": {
      "image/png": "[encoded data removed]",
      "text/plain": [
       "<Figure size 432x288 with 1 Axes>"
      ]
     },
     "metadata": {
      "needs_background": "light"
     },
     "output_type": "display_data"
    }
   ],
   "source": [
    "plot_poly_predictions(data , model)"
   ]
  },
  {
   "cell_type": "markdown",
   "metadata": {},
   "source": [
    "Create a function that prints the polynomial coefficients in a pretty way :)"
   ]
  },
  {
   "cell_type": "code",
   "execution_count": 205,
   "metadata": {},
   "outputs": [],
   "source": [
    "def print_coefficients(model):    \n",
    "    # Get the degree of the polynomial\n",
    "    deg = len(model.coef_)\n",
    "\n",
    "    # Get learned parameters as a list\n",
    "    w = list(model.coef_)\n",
    "    #print('w',w)\n",
    "    # Numpy has a nifty function to print out polynomials in a pretty way\n",
    "    # (We'll use it, but it needs the parameters in the reverse order)\n",
    "    print ('Learned polynomial for degree ' + str(deg) + ':')\n",
    "    w.reverse()\n",
    "    print( np.poly1d(w) )"
   ]
  },
  {
   "cell_type": "code",
   "execution_count": 206,
   "metadata": {},
   "outputs": [
    {
     "name": "stdout",
     "output_type": "stream",
     "text": [
      "Learned polynomial for degree 3:\n",
      "       2\n",
      "0.233 x + 0.406 x - 0.4412\n"
     ]
    }
   ],
   "source": [
    "print_coefficients(model)"
   ]
  },
  {
   "cell_type": "markdown",
   "metadata": {},
   "source": [
    "## Fit a degree-2 polynomial"
   ]
  },
  {
   "cell_type": "markdown",
   "metadata": {},
   "source": [
    "Fit our degree-2 polynomial to the data generated above:"
   ]
  },
  {
   "cell_type": "code",
   "execution_count": 207,
   "metadata": {},
   "outputs": [
    {
     "data": {
      "text/plain": [
       "LinearRegression(copy_X=True, fit_intercept=True, n_jobs=None,\n",
       "         normalize=False)"
      ]
     },
     "execution_count": 207,
     "metadata": {},
     "output_type": "execute_result"
    }
   ],
   "source": [
    "# degree = 2\n",
    "li_model = LinearRegression\n",
    "model_2,pred_2y = polynomial_regression(x ,2 ,y , li_model)\n",
    "model_2\n"
   ]
  },
  {
   "cell_type": "markdown",
   "metadata": {},
   "source": [
    "Inspect learned parameters"
   ]
  },
  {
   "cell_type": "code",
   "execution_count": 208,
   "metadata": {},
   "outputs": [
    {
     "name": "stdout",
     "output_type": "stream",
     "text": [
      "Learned polynomial for degree 2:\n",
      " \n",
      "0.1632 x - 0.2073\n"
     ]
    }
   ],
   "source": [
    "print_coefficients(model_2)"
   ]
  },
  {
   "cell_type": "markdown",
   "metadata": {},
   "source": [
    "Form and plot our predictions along a grid of x values:"
   ]
  },
  {
   "cell_type": "code",
   "execution_count": 230,
   "metadata": {},
   "outputs": [
    {
     "data": {
      "image/png": "[encoded data removed]",
      "text/plain": [
       "<Figure size 432x288 with 1 Axes>"
      ]
     },
     "metadata": {
      "needs_background": "light"
     },
     "output_type": "display_data"
    }
   ],
   "source": [
    "plot_poly_predictions(data,model_2)"
   ]
  },
  {
   "cell_type": "markdown",
   "metadata": {
    "collapsed": true
   },
   "source": [
    "## Fit a degree-4 polynomial"
   ]
  },
  {
   "cell_type": "code",
   "execution_count": 231,
   "metadata": {
    "scrolled": true
   },
   "outputs": [
    {
     "name": "stdout",
     "output_type": "stream",
     "text": [
      "Learned polynomial for degree 4:\n",
      "        3         2\n",
      "-1.943 x - 2.857 x + 2.438 x + 2.213\n"
     ]
    },
    {
     "data": {
      "image/png": "[encoded data removed]",
      "text/plain": [
       "<Figure size 432x288 with 1 Axes>"
      ]
     },
     "metadata": {
      "needs_background": "light"
     },
     "output_type": "display_data"
    }
   ],
   "source": [
    "model_4,pred_4y = polynomial_regression(x, 4 , y ,li_model)\n",
    "print_coefficients(model_4)\n",
    "plot_poly_predictions(data, model_4)"
   ]
  },
  {
   "cell_type": "code",
   "execution_count": 211,
   "metadata": {},
   "outputs": [
    {
     "name": "stdout",
     "output_type": "stream",
     "text": [
      "Learned polynomial for degree 8:\n",
      "      7         6         5         4       3         2\n",
      "1.44 x + 1.509 x - 6.273 x - 4.997 x + 6.3 x + 1.225 x - 1.076 x + 1.612\n"
     ]
    },
    {
     "data": {
      "image/png": "[encoded data removed]",
      "text/plain": [
       "<Figure size 432x288 with 1 Axes>"
      ]
     },
     "metadata": {
      "needs_background": "light"
     },
     "output_type": "display_data"
    }
   ],
   "source": [
    "model_8,pred_8y = polynomial_regression(x, 8 , y ,li_model)\n",
    "print_coefficients(model_8)\n",
    "plot_poly_predictions(data, x ,model_8)"
   ]
  },
  {
   "cell_type": "markdown",
   "metadata": {},
   "source": [
    "## Fit a degree-16 polynomial"
   ]
  },
  {
   "cell_type": "code",
   "execution_count": 212,
   "metadata": {},
   "outputs": [
    {
     "name": "stdout",
     "output_type": "stream",
     "text": [
      "Learned polynomial for degree 16:\n",
      "       15         14         13         12         11         10\n",
      "31.07 x  + 145.2 x  + 97.28 x  - 444.3 x  - 606.9 x  + 420.3 x \n",
      "          9         8         7       6         5         4         3\n",
      " + 898.8 x - 45.45 x - 475.9 x - 126 x - 10.76 x + 53.56 x + 84.47 x\n",
      "         2\n",
      " - 5.04 x - 18.08 x + 1.105\n"
     ]
    }
   ],
   "source": [
    "model_16 , pred_16y = polynomial_regression(x, 16, y, li_model)\n",
    "print_coefficients(model_16)"
   ]
  },
  {
   "cell_type": "markdown",
   "metadata": {},
   "source": [
    "### Woah!!!!  Those coefficients are *crazy*!  On the order of 10^6."
   ]
  },
  {
   "cell_type": "code",
   "execution_count": 232,
   "metadata": {},
   "outputs": [
    {
     "data": {
      "image/png": "[encoded data removed]",
      "text/plain": [
       "<Figure size 432x288 with 1 Axes>"
      ]
     },
     "metadata": {
      "needs_background": "light"
     },
     "output_type": "display_data"
    }
   ],
   "source": [
    "plot_poly_predictions(data, model_16)"
   ]
  },
  {
   "cell_type": "markdown",
   "metadata": {},
   "source": [
    "### Above: Fit looks pretty wild, too.  Here's a clear example of how overfitting is associated with very large magnitude estimated coefficients."
   ]
  },
  {
   "cell_type": "markdown",
   "metadata": {},
   "source": [
    "# "
   ]
  },
  {
   "cell_type": "markdown",
   "metadata": {},
   "source": [
    "# "
   ]
  },
  {
   "cell_type": "markdown",
   "metadata": {},
   "source": [
    " # "
   ]
  },
  {
   "cell_type": "markdown",
   "metadata": {},
   "source": [
    " # "
   ]
  },
  {
   "cell_type": "markdown",
   "metadata": {
    "collapsed": true
   },
   "source": [
    "# Ridge Regression"
   ]
  },
  {
   "cell_type": "markdown",
   "metadata": {},
   "source": [
    "Ridge regression aims to avoid overfitting by adding a cost to the RSS term of standard least squares that depends on the 2-norm of the coefficients $\\|w\\|$.  The result is penalizing fits with large coefficients.  The strength of this penalty, and thus the fit vs. model complexity balance, is controled by a parameter lambda (here called \"L2_penalty\")."
   ]
  },
  {
   "cell_type": "markdown",
   "metadata": {},
   "source": [
    "Define our function to solve the ridge objective for a polynomial regression model of any degree:"
   ]
  },
  {
   "cell_type": "code",
   "execution_count": 214,
   "metadata": {},
   "outputs": [],
   "source": [
    "from sklearn.linear_model import Lasso ,Ridge"
   ]
  },
  {
   "cell_type": "code",
   "execution_count": 221,
   "metadata": {
    "scrolled": true
   },
   "outputs": [
    {
     "data": {
      "text/plain": [
       "array([ 0.39163718, -0.05447349,  0.36232912,  0.24742348,  0.16906627,\n",
       "        0.03203597,  0.25873557,  0.19863291,  0.26555835,  0.37607323,\n",
       "       -0.07916398, -0.0837668 ,  0.46150827,  0.41089742,  0.09084809,\n",
       "        0.00509221,  0.13106915,  0.42317528, -0.04861567,  0.1540129 ,\n",
       "       -0.01579659,  0.00986282,  0.02887616,  0.11621686,  0.20909647,\n",
       "        0.54068772,  0.53425565,  0.16986818,  0.36921023,  0.44068256])"
      ]
     },
     "execution_count": 221,
     "metadata": {},
     "output_type": "execute_result"
    }
   ],
   "source": [
    "# just checking its diff values\n",
    "#mo = LinearRegression() \n",
    "mo=Ridge(10)\n",
    "mo.fit(x,y)\n",
    "mo.predict(x)"
   ]
  },
  {
   "cell_type": "code",
   "execution_count": 222,
   "metadata": {},
   "outputs": [],
   "source": [
    "def polynomial_ridge_regression(data, deg, y,l2_penalty):\n",
    "    x = polynomial_features(data, deg)\n",
    "    model = Ridge(alpha = l2_penalty)\n",
    "    model.fit(x, y)\n",
    "    \n",
    "    return model"
   ]
  },
  {
   "cell_type": "markdown",
   "metadata": {},
   "source": [
    "## Perform a ridge fit of a degree-16 polynomial using a *very* small penalty strength"
   ]
  },
  {
   "cell_type": "code",
   "execution_count": 252,
   "metadata": {},
   "outputs": [
    {
     "name": "stdout",
     "output_type": "stream",
     "text": [
      "Learned polynomial for degree 16:\n",
      "       15         14         13         12         11         10\n",
      "30.69 x  + 143.3 x  + 95.97 x  - 437.9 x  - 597.7 x  + 412.5 x \n",
      "          9         8         7         6         5         4         3\n",
      " + 881.9 x - 41.86 x - 461.5 x - 126.1 x - 16.85 x + 53.24 x + 85.63 x\n",
      "         2\n",
      " - 4.97 x - 18.16 x + 1.103\n"
     ]
    },
    {
     "name": "stderr",
     "output_type": "stream",
     "text": [
      "C:\\Users\\Srikanth\\AppData\\Local\\conda\\conda\\envs\\SRI\\lib\\site-packages\\sklearn\\linear_model\\ridge.py:125: LinAlgWarning: scipy.linalg.solve\n",
      "Ill-conditioned matrix detected. Result is not guaranteed to be accurate.\n",
      "Reciprocal condition number2.825475e-17\n",
      "  overwrite_a=True).T\n"
     ]
    }
   ],
   "source": [
    "model_ridge_16 = polynomial_ridge_regression(x, 16,y , l2_penalty=1e-25)\n",
    "print_coefficients(model_ridge_16)"
   ]
  },
  {
   "cell_type": "code",
   "execution_count": 253,
   "metadata": {},
   "outputs": [
    {
     "data": {
      "image/png": "[encoded data removed]",
      "text/plain": [
       "<Figure size 432x288 with 1 Axes>"
      ]
     },
     "metadata": {
      "needs_background": "light"
     },
     "output_type": "display_data"
    }
   ],
   "source": [
    "plot_poly_predictions(data,model_ridge_16)"
   ]
  },
  {
   "cell_type": "markdown",
   "metadata": {},
   "source": [
    "## Perform a ridge fit of a degree-16 polynomial using a very large penalty strength"
   ]
  },
  {
   "cell_type": "code",
   "execution_count": 255,
   "metadata": {},
   "outputs": [
    {
     "name": "stdout",
     "output_type": "stream",
     "text": [
      "Learned polynomial for degree 17:\n",
      "          16           15           14            13           12\n",
      "0.001614 x  - 0.01645 x  - 0.04149 x  - 0.008912 x  - 0.02349 x \n",
      "            11             10           9           8           7\n",
      " - 0.02795 x  + 0.0004009 x  - 0.04239 x + 0.01564 x - 0.04691 x\n",
      "            6           5           4           3           2\n",
      " + 0.02275 x - 0.04312 x + 0.02538 x - 0.03118 x + 0.02511 x + 0.2378 x - 0.001067\n"
     ]
    }
   ],
   "source": [
    "model_ridge_16_high = polynomial_ridge_regression(data, 16,y, l2_penalty=100)\n",
    "print_coefficients(model_ridge_16_high)"
   ]
  },
  {
   "cell_type": "code",
   "execution_count": 256,
   "metadata": {},
   "outputs": [
    {
     "data": {
      "image/png": "[encoded data removed]",
      "text/plain": [
       "<Figure size 432x288 with 1 Axes>"
      ]
     },
     "metadata": {
      "needs_background": "light"
     },
     "output_type": "display_data"
    }
   ],
   "source": [
    "plot_poly_predictions(data,model_ridge_16_high)"
   ]
  },
  {
   "cell_type": "markdown",
   "metadata": {},
   "source": [
    "## Let's look at fits for a sequence of increasing lambda values"
   ]
  },
  {
   "cell_type": "code",
   "execution_count": 257,
   "metadata": {
    "scrolled": false
   },
   "outputs": [
    {
     "name": "stderr",
     "output_type": "stream",
     "text": [
      "C:\\Users\\Srikanth\\AppData\\Local\\conda\\conda\\envs\\SRI\\lib\\site-packages\\sklearn\\linear_model\\ridge.py:125: LinAlgWarning: scipy.linalg.solve\n",
      "Ill-conditioned matrix detected. Result is not guaranteed to be accurate.\n",
      "Reciprocal condition number2.812427e-17\n",
      "  overwrite_a=True).T\n",
      "C:\\Users\\Srikanth\\AppData\\Local\\conda\\conda\\envs\\SRI\\lib\\site-packages\\sklearn\\linear_model\\ridge.py:125: LinAlgWarning: scipy.linalg.solve\n",
      "Ill-conditioned matrix detected. Result is not guaranteed to be accurate.\n",
      "Reciprocal condition number2.810028e-17\n",
      "  overwrite_a=True).T\n"
     ]
    },
    {
     "name": "stdout",
     "output_type": "stream",
     "text": [
      "lambda = 1e-25\n",
      "Learned polynomial for degree 17:\n",
      "          15           14            13             12             11\n",
      "2.26e-08 x  + 1.1e-07 x  + 7.81e-08 x  - 3.675e-07 x  - 5.257e-07 x \n",
      "              10             9             8             7\n",
      " + 4.306e-07 x  + 9.238e-07 x - 1.921e-07 x - 7.387e-07 x\n",
      "              6             5             4             3             2\n",
      " + 9.655e-09 x + 2.826e-07 x + 1.138e-08 x - 4.412e-08 x - 2.142e-09 x + 1 x + 1.586e-09\n",
      "\n",
      "\n",
      "lambda = 1e-10\n",
      "Learned polynomial for degree 17:\n",
      "            16             15            14             13\n",
      "-2.207e-08 x  - 1.314e-07 x  - 1.92e-07 x  + 2.796e-07 x \n",
      "              12            11             10             9\n",
      " + 9.017e-07 x  + 1.21e-07 x  - 1.364e-06 x  - 7.635e-07 x\n",
      "              8            7             6             5             4\n",
      " + 9.397e-07 x + 7.49e-07 x - 2.987e-07 x - 2.998e-07 x + 3.531e-08 x\n",
      "              3             2\n",
      " + 4.684e-08 x + 1.756e-10 x + 1 x - 1.64e-09\n",
      "\n",
      "\n",
      "lambda = 1e-06\n",
      "Learned polynomial for degree 17:\n",
      "           16             15             14             13\n",
      "9.615e-07 x  + 3.993e-06 x  + 1.507e-06 x  - 1.159e-05 x \n",
      "              12             11             10             9\n",
      " - 9.857e-06 x  + 9.976e-06 x  + 6.522e-06 x  - 1.367e-07 x\n",
      "              8             7             6             5             4\n",
      " + 1.161e-05 x - 3.283e-06 x - 1.815e-05 x + 7.927e-07 x + 8.806e-06 x\n",
      "              3             2\n",
      " + 1.324e-07 x - 1.404e-06 x + 1 x + 6.915e-08\n",
      "\n",
      "\n",
      "lambda = 0.001\n",
      "Learned polynomial for degree 17:\n",
      "           16             15             14             13\n",
      "6.586e-05 x  + 0.0002316 x  + 5.908e-05 x  - 0.0003757 x \n",
      "              12             11            10             9\n",
      " - 2.332e-06 x  + 0.0002299 x  - 0.000273 x  + 7.136e-05 x\n",
      "             8             7             6             5             4\n",
      " - 3.56e-05 x - 0.0003205 x + 3.008e-05 x - 0.0001899 x + 0.0002569 x\n",
      "              3             2\n",
      " + 0.0002238 x - 8.795e-05 x + 0.9999 x + 7.085e-05\n",
      "\n",
      "\n",
      "lambda = 100.0\n",
      "Learned polynomial for degree 17:\n",
      "          16           15           14            13           12\n",
      "0.001614 x  - 0.01645 x  - 0.04149 x  - 0.008912 x  - 0.02349 x \n",
      "            11             10           9           8           7\n",
      " - 0.02795 x  + 0.0004009 x  - 0.04239 x + 0.01564 x - 0.04691 x\n",
      "            6           5           4           3           2\n",
      " + 0.02275 x - 0.04312 x + 0.02538 x - 0.03118 x + 0.02511 x + 0.2378 x - 0.001067\n",
      "\n",
      "\n"
     ]
    },
    {
     "data": {
      "image/png": "[encoded data removed]",
      "text/plain": [
       "<Figure size 432x288 with 1 Axes>"
      ]
     },
     "metadata": {
      "needs_background": "light"
     },
     "output_type": "display_data"
    },
    {
     "data": {
      "image/png": "[encoded data removed]",
      "text/plain": [
       "<Figure size 432x288 with 1 Axes>"
      ]
     },
     "metadata": {
      "needs_background": "light"
     },
     "output_type": "display_data"
    },
    {
     "data": {
      "image/png": "[encoded data removed]",
      "text/plain": [
       "<Figure size 432x288 with 1 Axes>"
      ]
     },
     "metadata": {
      "needs_background": "light"
     },
     "output_type": "display_data"
    },
    {
     "data": {
      "image/png": "[encoded data removed]",
      "text/plain": [
       "<Figure size 432x288 with 1 Axes>"
      ]
     },
     "metadata": {
      "needs_background": "light"
     },
     "output_type": "display_data"
    },
    {
     "data": {
      "image/png": "[encoded data removed]",
      "text/plain": [
       "<Figure size 432x288 with 1 Axes>"
      ]
     },
     "metadata": {
      "needs_background": "light"
     },
     "output_type": "display_data"
    }
   ],
   "source": [
    "for l2_penalty in [1e-25, 1e-10, 1e-6, 1e-3, 1e2]:\n",
    "    model = polynomial_ridge_regression(data, 16 ,y , l2_penalty)\n",
    "    print ('lambda =', l2_penalty)\n",
    "    print_coefficients(model)\n",
    "    print ('\\n')\n",
    "    plt.figure()\n",
    "    plot_poly_predictions(data,model)\n",
    "    plt.title('Ridge, lambda = %.2e' % l2_penalty)"
   ]
  },
  {
   "cell_type": "code",
   "execution_count": 336,
   "metadata": {
    "scrolled": true
   },
   "outputs": [
    {
     "data": {
      "text/html": [
       "<div>\n",
       "<style scoped>\n",
       "    .dataframe tbody tr th:only-of-type {\n",
       "        vertical-align: middle;\n",
       "    }\n",
       "\n",
       "    .dataframe tbody tr th {\n",
       "        vertical-align: top;\n",
       "    }\n",
       "\n",
       "    .dataframe thead th {\n",
       "        text-align: right;\n",
       "    }\n",
       "</style>\n",
       "<table border=\"1\" class=\"dataframe\">\n",
       "  <thead>\n",
       "    <tr style=\"text-align: right;\">\n",
       "      <th></th>\n",
       "      <th>X1</th>\n",
       "      <th>Y</th>\n",
       "    </tr>\n",
       "  </thead>\n",
       "  <tbody>\n",
       "    <tr>\n",
       "      <th>0</th>\n",
       "      <td>-1.130275</td>\n",
       "      <td>3.050759</td>\n",
       "    </tr>\n",
       "    <tr>\n",
       "      <th>1</th>\n",
       "      <td>0.927091</td>\n",
       "      <td>-0.044144</td>\n",
       "    </tr>\n",
       "    <tr>\n",
       "      <th>2</th>\n",
       "      <td>-0.995112</td>\n",
       "      <td>1.015759</td>\n",
       "    </tr>\n",
       "    <tr>\n",
       "      <th>3</th>\n",
       "      <td>-0.465192</td>\n",
       "      <td>-0.444713</td>\n",
       "    </tr>\n",
       "    <tr>\n",
       "      <th>4</th>\n",
       "      <td>-0.103826</td>\n",
       "      <td>0.039178</td>\n",
       "    </tr>\n",
       "    <tr>\n",
       "      <th>5</th>\n",
       "      <td>0.528128</td>\n",
       "      <td>-0.038238</td>\n",
       "    </tr>\n",
       "    <tr>\n",
       "      <th>6</th>\n",
       "      <td>-0.517361</td>\n",
       "      <td>-1.738675</td>\n",
       "    </tr>\n",
       "    <tr>\n",
       "      <th>7</th>\n",
       "      <td>-0.240181</td>\n",
       "      <td>-2.075279</td>\n",
       "    </tr>\n",
       "    <tr>\n",
       "      <th>8</th>\n",
       "      <td>-0.548826</td>\n",
       "      <td>-0.712749</td>\n",
       "    </tr>\n",
       "    <tr>\n",
       "      <th>9</th>\n",
       "      <td>-1.058497</td>\n",
       "      <td>0.161015</td>\n",
       "    </tr>\n",
       "    <tr>\n",
       "      <th>10</th>\n",
       "      <td>1.040959</td>\n",
       "      <td>-1.192588</td>\n",
       "    </tr>\n",
       "    <tr>\n",
       "      <th>11</th>\n",
       "      <td>1.062186</td>\n",
       "      <td>-1.214589</td>\n",
       "    </tr>\n",
       "    <tr>\n",
       "      <th>12</th>\n",
       "      <td>-1.452505</td>\n",
       "      <td>1.270150</td>\n",
       "    </tr>\n",
       "    <tr>\n",
       "      <th>13</th>\n",
       "      <td>-1.219099</td>\n",
       "      <td>0.928719</td>\n",
       "    </tr>\n",
       "    <tr>\n",
       "      <th>14</th>\n",
       "      <td>0.256900</td>\n",
       "      <td>0.292563</td>\n",
       "    </tr>\n",
       "    <tr>\n",
       "      <th>15</th>\n",
       "      <td>0.652387</td>\n",
       "      <td>0.397325</td>\n",
       "    </tr>\n",
       "    <tr>\n",
       "      <th>16</th>\n",
       "      <td>0.071409</td>\n",
       "      <td>-0.202786</td>\n",
       "    </tr>\n",
       "    <tr>\n",
       "      <th>17</th>\n",
       "      <td>-1.275722</td>\n",
       "      <td>2.329165</td>\n",
       "    </tr>\n",
       "    <tr>\n",
       "      <th>18</th>\n",
       "      <td>0.900076</td>\n",
       "      <td>0.601183</td>\n",
       "    </tr>\n",
       "    <tr>\n",
       "      <th>19</th>\n",
       "      <td>-0.034403</td>\n",
       "      <td>0.127894</td>\n",
       "    </tr>\n",
       "    <tr>\n",
       "      <th>20</th>\n",
       "      <td>0.748722</td>\n",
       "      <td>0.527797</td>\n",
       "    </tr>\n",
       "    <tr>\n",
       "      <th>21</th>\n",
       "      <td>0.630386</td>\n",
       "      <td>2.812519</td>\n",
       "    </tr>\n",
       "    <tr>\n",
       "      <th>22</th>\n",
       "      <td>0.542701</td>\n",
       "      <td>0.286043</td>\n",
       "    </tr>\n",
       "    <tr>\n",
       "      <th>23</th>\n",
       "      <td>0.139904</td>\n",
       "      <td>-0.759335</td>\n",
       "    </tr>\n",
       "    <tr>\n",
       "      <th>24</th>\n",
       "      <td>-0.288436</td>\n",
       "      <td>-0.800124</td>\n",
       "    </tr>\n",
       "    <tr>\n",
       "      <th>25</th>\n",
       "      <td>-1.817664</td>\n",
       "      <td>0.134200</td>\n",
       "    </tr>\n",
       "    <tr>\n",
       "      <th>26</th>\n",
       "      <td>-1.788000</td>\n",
       "      <td>-0.564404</td>\n",
       "    </tr>\n",
       "    <tr>\n",
       "      <th>27</th>\n",
       "      <td>-0.107524</td>\n",
       "      <td>0.556506</td>\n",
       "    </tr>\n",
       "    <tr>\n",
       "      <th>28</th>\n",
       "      <td>-1.026847</td>\n",
       "      <td>0.921336</td>\n",
       "    </tr>\n",
       "    <tr>\n",
       "      <th>29</th>\n",
       "      <td>-1.356462</td>\n",
       "      <td>0.450548</td>\n",
       "    </tr>\n",
       "  </tbody>\n",
       "</table>\n",
       "</div>"
      ],
      "text/plain": [
       "          X1         Y\n",
       "0  -1.130275  3.050759\n",
       "1   0.927091 -0.044144\n",
       "2  -0.995112  1.015759\n",
       "3  -0.465192 -0.444713\n",
       "4  -0.103826  0.039178\n",
       "5   0.528128 -0.038238\n",
       "6  -0.517361 -1.738675\n",
       "7  -0.240181 -2.075279\n",
       "8  -0.548826 -0.712749\n",
       "9  -1.058497  0.161015\n",
       "10  1.040959 -1.192588\n",
       "11  1.062186 -1.214589\n",
       "12 -1.452505  1.270150\n",
       "13 -1.219099  0.928719\n",
       "14  0.256900  0.292563\n",
       "15  0.652387  0.397325\n",
       "16  0.071409 -0.202786\n",
       "17 -1.275722  2.329165\n",
       "18  0.900076  0.601183\n",
       "19 -0.034403  0.127894\n",
       "20  0.748722  0.527797\n",
       "21  0.630386  2.812519\n",
       "22  0.542701  0.286043\n",
       "23  0.139904 -0.759335\n",
       "24 -0.288436 -0.800124\n",
       "25 -1.817664  0.134200\n",
       "26 -1.788000 -0.564404\n",
       "27 -0.107524  0.556506\n",
       "28 -1.026847  0.921336\n",
       "29 -1.356462  0.450548"
      ]
     },
     "execution_count": 336,
     "metadata": {},
     "output_type": "execute_result"
    }
   ],
   "source": [
    "data"
   ]
  },
  {
   "cell_type": "markdown",
   "metadata": {},
   "source": [
    "## Perform a ridge fit of a degree-16 polynomial using a \"good\" penalty strength"
   ]
  },
  {
   "cell_type": "markdown",
   "metadata": {},
   "source": [
    "We will learn about cross validation later in this course as a way to select a good value of the tuning parameter (penalty strength) lambda.  Here, we consider \"leave one out\" (LOO) cross validation, which one can show approximates average mean square error (MSE).  As a result, choosing lambda to minimize the LOO error is equivalent to choosing lambda to minimize an approximation to average MSE."
   ]
  },
  {
   "cell_type": "code",
   "execution_count": 321,
   "metadata": {},
   "outputs": [
    {
     "data": {
      "text/plain": [
       "range(0, 10)"
      ]
     },
     "execution_count": 321,
     "metadata": {},
     "output_type": "execute_result"
    }
   ],
   "source": [
    "(range(10))"
   ]
  },
  {
   "cell_type": "code",
   "execution_count": 325,
   "metadata": {},
   "outputs": [],
   "source": [
    "from sklearn.model_selection import KFold\n",
    "fd = KFold(2,True)\n"
   ]
  },
  {
   "cell_type": "code",
   "execution_count": 353,
   "metadata": {
    "scrolled": true
   },
   "outputs": [
    {
     "data": {
      "text/html": [
       "<div>\n",
       "<style scoped>\n",
       "    .dataframe tbody tr th:only-of-type {\n",
       "        vertical-align: middle;\n",
       "    }\n",
       "\n",
       "    .dataframe tbody tr th {\n",
       "        vertical-align: top;\n",
       "    }\n",
       "\n",
       "    .dataframe thead th {\n",
       "        text-align: right;\n",
       "    }\n",
       "</style>\n",
       "<table border=\"1\" class=\"dataframe\">\n",
       "  <thead>\n",
       "    <tr style=\"text-align: right;\">\n",
       "      <th></th>\n",
       "      <th>X1</th>\n",
       "      <th>Y</th>\n",
       "      <th>X2</th>\n",
       "      <th>X3</th>\n",
       "      <th>X4</th>\n",
       "      <th>X5</th>\n",
       "      <th>X6</th>\n",
       "      <th>X7</th>\n",
       "      <th>X8</th>\n",
       "    </tr>\n",
       "  </thead>\n",
       "  <tbody>\n",
       "    <tr>\n",
       "      <th>0</th>\n",
       "      <td>-1.130275</td>\n",
       "      <td>3.050759</td>\n",
       "      <td>1.277521</td>\n",
       "      <td>-1.443950</td>\n",
       "      <td>1.632060</td>\n",
       "      <td>-1.844677e+00</td>\n",
       "      <td>2.084992e+00</td>\n",
       "      <td>-2.356614e+00</td>\n",
       "      <td>2.663621e+00</td>\n",
       "    </tr>\n",
       "    <tr>\n",
       "      <th>1</th>\n",
       "      <td>0.927091</td>\n",
       "      <td>-0.044144</td>\n",
       "      <td>0.859499</td>\n",
       "      <td>0.796834</td>\n",
       "      <td>0.738738</td>\n",
       "      <td>6.848774e-01</td>\n",
       "      <td>6.349440e-01</td>\n",
       "      <td>5.886512e-01</td>\n",
       "      <td>5.457335e-01</td>\n",
       "    </tr>\n",
       "    <tr>\n",
       "      <th>2</th>\n",
       "      <td>-0.995112</td>\n",
       "      <td>1.015759</td>\n",
       "      <td>0.990249</td>\n",
       "      <td>-0.985409</td>\n",
       "      <td>0.980592</td>\n",
       "      <td>-9.757994e-01</td>\n",
       "      <td>9.710300e-01</td>\n",
       "      <td>-9.662840e-01</td>\n",
       "      <td>9.615611e-01</td>\n",
       "    </tr>\n",
       "    <tr>\n",
       "      <th>3</th>\n",
       "      <td>-0.465192</td>\n",
       "      <td>-0.444713</td>\n",
       "      <td>0.216404</td>\n",
       "      <td>-0.100669</td>\n",
       "      <td>0.046831</td>\n",
       "      <td>-2.178525e-02</td>\n",
       "      <td>1.013433e-02</td>\n",
       "      <td>-4.714413e-03</td>\n",
       "      <td>2.193109e-03</td>\n",
       "    </tr>\n",
       "    <tr>\n",
       "      <th>4</th>\n",
       "      <td>-0.103826</td>\n",
       "      <td>0.039178</td>\n",
       "      <td>0.010780</td>\n",
       "      <td>-0.001119</td>\n",
       "      <td>0.000116</td>\n",
       "      <td>-1.206493e-05</td>\n",
       "      <td>1.252650e-06</td>\n",
       "      <td>-1.300573e-07</td>\n",
       "      <td>1.350330e-08</td>\n",
       "    </tr>\n",
       "    <tr>\n",
       "      <th>5</th>\n",
       "      <td>0.528128</td>\n",
       "      <td>-0.038238</td>\n",
       "      <td>0.278920</td>\n",
       "      <td>0.147305</td>\n",
       "      <td>0.077796</td>\n",
       "      <td>4.108638e-02</td>\n",
       "      <td>2.169889e-02</td>\n",
       "      <td>1.145980e-02</td>\n",
       "      <td>6.052247e-03</td>\n",
       "    </tr>\n",
       "    <tr>\n",
       "      <th>6</th>\n",
       "      <td>-0.517361</td>\n",
       "      <td>-1.738675</td>\n",
       "      <td>0.267663</td>\n",
       "      <td>-0.138478</td>\n",
       "      <td>0.071643</td>\n",
       "      <td>-3.706546e-02</td>\n",
       "      <td>1.917623e-02</td>\n",
       "      <td>-9.921040e-03</td>\n",
       "      <td>5.132762e-03</td>\n",
       "    </tr>\n",
       "    <tr>\n",
       "      <th>7</th>\n",
       "      <td>-0.240181</td>\n",
       "      <td>-2.075279</td>\n",
       "      <td>0.057687</td>\n",
       "      <td>-0.013855</td>\n",
       "      <td>0.003328</td>\n",
       "      <td>-7.992649e-04</td>\n",
       "      <td>1.919680e-04</td>\n",
       "      <td>-4.610702e-05</td>\n",
       "      <td>1.107402e-05</td>\n",
       "    </tr>\n",
       "    <tr>\n",
       "      <th>8</th>\n",
       "      <td>-0.548826</td>\n",
       "      <td>-0.712749</td>\n",
       "      <td>0.301210</td>\n",
       "      <td>-0.165312</td>\n",
       "      <td>0.090728</td>\n",
       "      <td>-4.979377e-02</td>\n",
       "      <td>2.732814e-02</td>\n",
       "      <td>-1.499840e-02</td>\n",
       "      <td>8.231520e-03</td>\n",
       "    </tr>\n",
       "    <tr>\n",
       "      <th>9</th>\n",
       "      <td>-1.058497</td>\n",
       "      <td>0.161015</td>\n",
       "      <td>1.120416</td>\n",
       "      <td>-1.185958</td>\n",
       "      <td>1.255333</td>\n",
       "      <td>-1.328766e+00</td>\n",
       "      <td>1.406495e+00</td>\n",
       "      <td>-1.488771e+00</td>\n",
       "      <td>1.575860e+00</td>\n",
       "    </tr>\n",
       "    <tr>\n",
       "      <th>10</th>\n",
       "      <td>1.040959</td>\n",
       "      <td>-1.192588</td>\n",
       "      <td>1.083595</td>\n",
       "      <td>1.127978</td>\n",
       "      <td>1.174178</td>\n",
       "      <td>1.222271e+00</td>\n",
       "      <td>1.272333e+00</td>\n",
       "      <td>1.324446e+00</td>\n",
       "      <td>1.378694e+00</td>\n",
       "    </tr>\n",
       "    <tr>\n",
       "      <th>11</th>\n",
       "      <td>1.062186</td>\n",
       "      <td>-1.214589</td>\n",
       "      <td>1.128239</td>\n",
       "      <td>1.198399</td>\n",
       "      <td>1.272923</td>\n",
       "      <td>1.352081e+00</td>\n",
       "      <td>1.436161e+00</td>\n",
       "      <td>1.525470e+00</td>\n",
       "      <td>1.620333e+00</td>\n",
       "    </tr>\n",
       "    <tr>\n",
       "      <th>12</th>\n",
       "      <td>-1.452505</td>\n",
       "      <td>1.270150</td>\n",
       "      <td>2.109771</td>\n",
       "      <td>-3.064454</td>\n",
       "      <td>4.451135</td>\n",
       "      <td>-6.465297e+00</td>\n",
       "      <td>9.390878e+00</td>\n",
       "      <td>-1.364030e+01</td>\n",
       "      <td>1.981260e+01</td>\n",
       "    </tr>\n",
       "    <tr>\n",
       "      <th>13</th>\n",
       "      <td>-1.219099</td>\n",
       "      <td>0.928719</td>\n",
       "      <td>1.486202</td>\n",
       "      <td>-1.811827</td>\n",
       "      <td>2.208797</td>\n",
       "      <td>-2.692742e+00</td>\n",
       "      <td>3.282718e+00</td>\n",
       "      <td>-4.001958e+00</td>\n",
       "      <td>4.878783e+00</td>\n",
       "    </tr>\n",
       "    <tr>\n",
       "      <th>14</th>\n",
       "      <td>0.256900</td>\n",
       "      <td>0.292563</td>\n",
       "      <td>0.065997</td>\n",
       "      <td>0.016955</td>\n",
       "      <td>0.004356</td>\n",
       "      <td>1.118968e-03</td>\n",
       "      <td>2.874625e-04</td>\n",
       "      <td>7.384901e-05</td>\n",
       "      <td>1.897179e-05</td>\n",
       "    </tr>\n",
       "    <tr>\n",
       "      <th>15</th>\n",
       "      <td>0.652387</td>\n",
       "      <td>0.397325</td>\n",
       "      <td>0.425609</td>\n",
       "      <td>0.277662</td>\n",
       "      <td>0.181143</td>\n",
       "      <td>1.181755e-01</td>\n",
       "      <td>7.709617e-02</td>\n",
       "      <td>5.029656e-02</td>\n",
       "      <td>3.281283e-02</td>\n",
       "    </tr>\n",
       "    <tr>\n",
       "      <th>16</th>\n",
       "      <td>0.071409</td>\n",
       "      <td>-0.202786</td>\n",
       "      <td>0.005099</td>\n",
       "      <td>0.000364</td>\n",
       "      <td>0.000026</td>\n",
       "      <td>1.856770e-06</td>\n",
       "      <td>1.325897e-07</td>\n",
       "      <td>9.468071e-09</td>\n",
       "      <td>6.761034e-10</td>\n",
       "    </tr>\n",
       "    <tr>\n",
       "      <th>17</th>\n",
       "      <td>-1.275722</td>\n",
       "      <td>2.329165</td>\n",
       "      <td>1.627466</td>\n",
       "      <td>-2.076194</td>\n",
       "      <td>2.648645</td>\n",
       "      <td>-3.378935e+00</td>\n",
       "      <td>4.310580e+00</td>\n",
       "      <td>-5.499101e+00</td>\n",
       "      <td>7.015323e+00</td>\n",
       "    </tr>\n",
       "    <tr>\n",
       "      <th>18</th>\n",
       "      <td>0.900076</td>\n",
       "      <td>0.601183</td>\n",
       "      <td>0.810138</td>\n",
       "      <td>0.729186</td>\n",
       "      <td>0.656323</td>\n",
       "      <td>5.907408e-01</td>\n",
       "      <td>5.317118e-01</td>\n",
       "      <td>4.785813e-01</td>\n",
       "      <td>4.307597e-01</td>\n",
       "    </tr>\n",
       "    <tr>\n",
       "      <th>19</th>\n",
       "      <td>-0.034403</td>\n",
       "      <td>0.127894</td>\n",
       "      <td>0.001184</td>\n",
       "      <td>-0.000041</td>\n",
       "      <td>0.000001</td>\n",
       "      <td>-4.819171e-08</td>\n",
       "      <td>1.657932e-09</td>\n",
       "      <td>-5.703760e-11</td>\n",
       "      <td>1.962256e-12</td>\n",
       "    </tr>\n",
       "    <tr>\n",
       "      <th>20</th>\n",
       "      <td>0.748722</td>\n",
       "      <td>0.527797</td>\n",
       "      <td>0.560585</td>\n",
       "      <td>0.419722</td>\n",
       "      <td>0.314255</td>\n",
       "      <td>2.352896e-01</td>\n",
       "      <td>1.761665e-01</td>\n",
       "      <td>1.318997e-01</td>\n",
       "      <td>9.875620e-02</td>\n",
       "    </tr>\n",
       "    <tr>\n",
       "      <th>21</th>\n",
       "      <td>0.630386</td>\n",
       "      <td>2.812519</td>\n",
       "      <td>0.397387</td>\n",
       "      <td>0.250507</td>\n",
       "      <td>0.157916</td>\n",
       "      <td>9.954825e-02</td>\n",
       "      <td>6.275385e-02</td>\n",
       "      <td>3.955916e-02</td>\n",
       "      <td>2.493755e-02</td>\n",
       "    </tr>\n",
       "    <tr>\n",
       "      <th>22</th>\n",
       "      <td>0.542701</td>\n",
       "      <td>0.286043</td>\n",
       "      <td>0.294524</td>\n",
       "      <td>0.159839</td>\n",
       "      <td>0.086744</td>\n",
       "      <td>4.707631e-02</td>\n",
       "      <td>2.554835e-02</td>\n",
       "      <td>1.386511e-02</td>\n",
       "      <td>7.524607e-03</td>\n",
       "    </tr>\n",
       "    <tr>\n",
       "      <th>23</th>\n",
       "      <td>0.139904</td>\n",
       "      <td>-0.759335</td>\n",
       "      <td>0.019573</td>\n",
       "      <td>0.002738</td>\n",
       "      <td>0.000383</td>\n",
       "      <td>5.359888e-05</td>\n",
       "      <td>7.498716e-06</td>\n",
       "      <td>1.049103e-06</td>\n",
       "      <td>1.467740e-07</td>\n",
       "    </tr>\n",
       "    <tr>\n",
       "      <th>24</th>\n",
       "      <td>-0.288436</td>\n",
       "      <td>-0.800124</td>\n",
       "      <td>0.083196</td>\n",
       "      <td>-0.023997</td>\n",
       "      <td>0.006921</td>\n",
       "      <td>-1.996412e-03</td>\n",
       "      <td>5.758380e-04</td>\n",
       "      <td>-1.660926e-04</td>\n",
       "      <td>4.790716e-05</td>\n",
       "    </tr>\n",
       "    <tr>\n",
       "      <th>25</th>\n",
       "      <td>-1.817664</td>\n",
       "      <td>0.134200</td>\n",
       "      <td>3.303902</td>\n",
       "      <td>-6.005382</td>\n",
       "      <td>10.915765</td>\n",
       "      <td>-1.984119e+01</td>\n",
       "      <td>3.606461e+01</td>\n",
       "      <td>-6.555334e+01</td>\n",
       "      <td>1.191539e+02</td>\n",
       "    </tr>\n",
       "    <tr>\n",
       "      <th>26</th>\n",
       "      <td>-1.788000</td>\n",
       "      <td>-0.564404</td>\n",
       "      <td>3.196946</td>\n",
       "      <td>-5.716140</td>\n",
       "      <td>10.220461</td>\n",
       "      <td>-1.827419e+01</td>\n",
       "      <td>3.267426e+01</td>\n",
       "      <td>-5.842159e+01</td>\n",
       "      <td>1.044578e+02</td>\n",
       "    </tr>\n",
       "    <tr>\n",
       "      <th>27</th>\n",
       "      <td>-0.107524</td>\n",
       "      <td>0.556506</td>\n",
       "      <td>0.011561</td>\n",
       "      <td>-0.001243</td>\n",
       "      <td>0.000134</td>\n",
       "      <td>-1.437232e-05</td>\n",
       "      <td>1.545369e-06</td>\n",
       "      <td>-1.661643e-07</td>\n",
       "      <td>1.786665e-08</td>\n",
       "    </tr>\n",
       "    <tr>\n",
       "      <th>28</th>\n",
       "      <td>-1.026847</td>\n",
       "      <td>0.921336</td>\n",
       "      <td>1.054414</td>\n",
       "      <td>-1.082721</td>\n",
       "      <td>1.111789</td>\n",
       "      <td>-1.141636e+00</td>\n",
       "      <td>1.172285e+00</td>\n",
       "      <td>-1.203757e+00</td>\n",
       "      <td>1.236074e+00</td>\n",
       "    </tr>\n",
       "    <tr>\n",
       "      <th>29</th>\n",
       "      <td>-1.356462</td>\n",
       "      <td>0.450548</td>\n",
       "      <td>1.839988</td>\n",
       "      <td>-2.495873</td>\n",
       "      <td>3.385555</td>\n",
       "      <td>-4.592376e+00</td>\n",
       "      <td>6.229381e+00</td>\n",
       "      <td>-8.449916e+00</td>\n",
       "      <td>1.146199e+01</td>\n",
       "    </tr>\n",
       "  </tbody>\n",
       "</table>\n",
       "</div>"
      ],
      "text/plain": [
       "          X1         Y        X2        X3         X4            X5  \\\n",
       "0  -1.130275  3.050759  1.277521 -1.443950   1.632060 -1.844677e+00   \n",
       "1   0.927091 -0.044144  0.859499  0.796834   0.738738  6.848774e-01   \n",
       "2  -0.995112  1.015759  0.990249 -0.985409   0.980592 -9.757994e-01   \n",
       "3  -0.465192 -0.444713  0.216404 -0.100669   0.046831 -2.178525e-02   \n",
       "4  -0.103826  0.039178  0.010780 -0.001119   0.000116 -1.206493e-05   \n",
       "5   0.528128 -0.038238  0.278920  0.147305   0.077796  4.108638e-02   \n",
       "6  -0.517361 -1.738675  0.267663 -0.138478   0.071643 -3.706546e-02   \n",
       "7  -0.240181 -2.075279  0.057687 -0.013855   0.003328 -7.992649e-04   \n",
       "8  -0.548826 -0.712749  0.301210 -0.165312   0.090728 -4.979377e-02   \n",
       "9  -1.058497  0.161015  1.120416 -1.185958   1.255333 -1.328766e+00   \n",
       "10  1.040959 -1.192588  1.083595  1.127978   1.174178  1.222271e+00   \n",
       "11  1.062186 -1.214589  1.128239  1.198399   1.272923  1.352081e+00   \n",
       "12 -1.452505  1.270150  2.109771 -3.064454   4.451135 -6.465297e+00   \n",
       "13 -1.219099  0.928719  1.486202 -1.811827   2.208797 -2.692742e+00   \n",
       "14  0.256900  0.292563  0.065997  0.016955   0.004356  1.118968e-03   \n",
       "15  0.652387  0.397325  0.425609  0.277662   0.181143  1.181755e-01   \n",
       "16  0.071409 -0.202786  0.005099  0.000364   0.000026  1.856770e-06   \n",
       "17 -1.275722  2.329165  1.627466 -2.076194   2.648645 -3.378935e+00   \n",
       "18  0.900076  0.601183  0.810138  0.729186   0.656323  5.907408e-01   \n",
       "19 -0.034403  0.127894  0.001184 -0.000041   0.000001 -4.819171e-08   \n",
       "20  0.748722  0.527797  0.560585  0.419722   0.314255  2.352896e-01   \n",
       "21  0.630386  2.812519  0.397387  0.250507   0.157916  9.954825e-02   \n",
       "22  0.542701  0.286043  0.294524  0.159839   0.086744  4.707631e-02   \n",
       "23  0.139904 -0.759335  0.019573  0.002738   0.000383  5.359888e-05   \n",
       "24 -0.288436 -0.800124  0.083196 -0.023997   0.006921 -1.996412e-03   \n",
       "25 -1.817664  0.134200  3.303902 -6.005382  10.915765 -1.984119e+01   \n",
       "26 -1.788000 -0.564404  3.196946 -5.716140  10.220461 -1.827419e+01   \n",
       "27 -0.107524  0.556506  0.011561 -0.001243   0.000134 -1.437232e-05   \n",
       "28 -1.026847  0.921336  1.054414 -1.082721   1.111789 -1.141636e+00   \n",
       "29 -1.356462  0.450548  1.839988 -2.495873   3.385555 -4.592376e+00   \n",
       "\n",
       "              X6            X7            X8  \n",
       "0   2.084992e+00 -2.356614e+00  2.663621e+00  \n",
       "1   6.349440e-01  5.886512e-01  5.457335e-01  \n",
       "2   9.710300e-01 -9.662840e-01  9.615611e-01  \n",
       "3   1.013433e-02 -4.714413e-03  2.193109e-03  \n",
       "4   1.252650e-06 -1.300573e-07  1.350330e-08  \n",
       "5   2.169889e-02  1.145980e-02  6.052247e-03  \n",
       "6   1.917623e-02 -9.921040e-03  5.132762e-03  \n",
       "7   1.919680e-04 -4.610702e-05  1.107402e-05  \n",
       "8   2.732814e-02 -1.499840e-02  8.231520e-03  \n",
       "9   1.406495e+00 -1.488771e+00  1.575860e+00  \n",
       "10  1.272333e+00  1.324446e+00  1.378694e+00  \n",
       "11  1.436161e+00  1.525470e+00  1.620333e+00  \n",
       "12  9.390878e+00 -1.364030e+01  1.981260e+01  \n",
       "13  3.282718e+00 -4.001958e+00  4.878783e+00  \n",
       "14  2.874625e-04  7.384901e-05  1.897179e-05  \n",
       "15  7.709617e-02  5.029656e-02  3.281283e-02  \n",
       "16  1.325897e-07  9.468071e-09  6.761034e-10  \n",
       "17  4.310580e+00 -5.499101e+00  7.015323e+00  \n",
       "18  5.317118e-01  4.785813e-01  4.307597e-01  \n",
       "19  1.657932e-09 -5.703760e-11  1.962256e-12  \n",
       "20  1.761665e-01  1.318997e-01  9.875620e-02  \n",
       "21  6.275385e-02  3.955916e-02  2.493755e-02  \n",
       "22  2.554835e-02  1.386511e-02  7.524607e-03  \n",
       "23  7.498716e-06  1.049103e-06  1.467740e-07  \n",
       "24  5.758380e-04 -1.660926e-04  4.790716e-05  \n",
       "25  3.606461e+01 -6.555334e+01  1.191539e+02  \n",
       "26  3.267426e+01 -5.842159e+01  1.044578e+02  \n",
       "27  1.545369e-06 -1.661643e-07  1.786665e-08  \n",
       "28  1.172285e+00 -1.203757e+00  1.236074e+00  \n",
       "29  6.229381e+00 -8.449916e+00  1.146199e+01  "
      ]
     },
     "execution_count": 353,
     "metadata": {},
     "output_type": "execute_result"
    }
   ],
   "source": [
    "da = polynomial_features(data, 8)\n",
    "da"
   ]
  },
  {
   "cell_type": "code",
   "execution_count": 354,
   "metadata": {
    "scrolled": false
   },
   "outputs": [
    {
     "data": {
      "text/html": [
       "<div>\n",
       "<style scoped>\n",
       "    .dataframe tbody tr th:only-of-type {\n",
       "        vertical-align: middle;\n",
       "    }\n",
       "\n",
       "    .dataframe tbody tr th {\n",
       "        vertical-align: top;\n",
       "    }\n",
       "\n",
       "    .dataframe thead th {\n",
       "        text-align: right;\n",
       "    }\n",
       "</style>\n",
       "<table border=\"1\" class=\"dataframe\">\n",
       "  <thead>\n",
       "    <tr style=\"text-align: right;\">\n",
       "      <th></th>\n",
       "      <th>X1</th>\n",
       "      <th>Y</th>\n",
       "      <th>X2</th>\n",
       "      <th>X3</th>\n",
       "      <th>X4</th>\n",
       "      <th>X5</th>\n",
       "      <th>X6</th>\n",
       "      <th>X7</th>\n",
       "      <th>X8</th>\n",
       "    </tr>\n",
       "  </thead>\n",
       "  <tbody>\n",
       "    <tr>\n",
       "      <th>10</th>\n",
       "      <td>1.040959</td>\n",
       "      <td>-1.192588</td>\n",
       "      <td>1.083595</td>\n",
       "      <td>1.127978</td>\n",
       "      <td>1.174178</td>\n",
       "      <td>1.222271e+00</td>\n",
       "      <td>1.272333e+00</td>\n",
       "      <td>1.324446e+00</td>\n",
       "      <td>1.378694e+00</td>\n",
       "    </tr>\n",
       "    <tr>\n",
       "      <th>11</th>\n",
       "      <td>1.062186</td>\n",
       "      <td>-1.214589</td>\n",
       "      <td>1.128239</td>\n",
       "      <td>1.198399</td>\n",
       "      <td>1.272923</td>\n",
       "      <td>1.352081e+00</td>\n",
       "      <td>1.436161e+00</td>\n",
       "      <td>1.525470e+00</td>\n",
       "      <td>1.620333e+00</td>\n",
       "    </tr>\n",
       "    <tr>\n",
       "      <th>12</th>\n",
       "      <td>-1.452505</td>\n",
       "      <td>1.270150</td>\n",
       "      <td>2.109771</td>\n",
       "      <td>-3.064454</td>\n",
       "      <td>4.451135</td>\n",
       "      <td>-6.465297e+00</td>\n",
       "      <td>9.390878e+00</td>\n",
       "      <td>-1.364030e+01</td>\n",
       "      <td>1.981260e+01</td>\n",
       "    </tr>\n",
       "    <tr>\n",
       "      <th>13</th>\n",
       "      <td>-1.219099</td>\n",
       "      <td>0.928719</td>\n",
       "      <td>1.486202</td>\n",
       "      <td>-1.811827</td>\n",
       "      <td>2.208797</td>\n",
       "      <td>-2.692742e+00</td>\n",
       "      <td>3.282718e+00</td>\n",
       "      <td>-4.001958e+00</td>\n",
       "      <td>4.878783e+00</td>\n",
       "    </tr>\n",
       "    <tr>\n",
       "      <th>14</th>\n",
       "      <td>0.256900</td>\n",
       "      <td>0.292563</td>\n",
       "      <td>0.065997</td>\n",
       "      <td>0.016955</td>\n",
       "      <td>0.004356</td>\n",
       "      <td>1.118968e-03</td>\n",
       "      <td>2.874625e-04</td>\n",
       "      <td>7.384901e-05</td>\n",
       "      <td>1.897179e-05</td>\n",
       "    </tr>\n",
       "    <tr>\n",
       "      <th>15</th>\n",
       "      <td>0.652387</td>\n",
       "      <td>0.397325</td>\n",
       "      <td>0.425609</td>\n",
       "      <td>0.277662</td>\n",
       "      <td>0.181143</td>\n",
       "      <td>1.181755e-01</td>\n",
       "      <td>7.709617e-02</td>\n",
       "      <td>5.029656e-02</td>\n",
       "      <td>3.281283e-02</td>\n",
       "    </tr>\n",
       "    <tr>\n",
       "      <th>16</th>\n",
       "      <td>0.071409</td>\n",
       "      <td>-0.202786</td>\n",
       "      <td>0.005099</td>\n",
       "      <td>0.000364</td>\n",
       "      <td>0.000026</td>\n",
       "      <td>1.856770e-06</td>\n",
       "      <td>1.325897e-07</td>\n",
       "      <td>9.468071e-09</td>\n",
       "      <td>6.761034e-10</td>\n",
       "    </tr>\n",
       "    <tr>\n",
       "      <th>17</th>\n",
       "      <td>-1.275722</td>\n",
       "      <td>2.329165</td>\n",
       "      <td>1.627466</td>\n",
       "      <td>-2.076194</td>\n",
       "      <td>2.648645</td>\n",
       "      <td>-3.378935e+00</td>\n",
       "      <td>4.310580e+00</td>\n",
       "      <td>-5.499101e+00</td>\n",
       "      <td>7.015323e+00</td>\n",
       "    </tr>\n",
       "    <tr>\n",
       "      <th>18</th>\n",
       "      <td>0.900076</td>\n",
       "      <td>0.601183</td>\n",
       "      <td>0.810138</td>\n",
       "      <td>0.729186</td>\n",
       "      <td>0.656323</td>\n",
       "      <td>5.907408e-01</td>\n",
       "      <td>5.317118e-01</td>\n",
       "      <td>4.785813e-01</td>\n",
       "      <td>4.307597e-01</td>\n",
       "    </tr>\n",
       "    <tr>\n",
       "      <th>19</th>\n",
       "      <td>-0.034403</td>\n",
       "      <td>0.127894</td>\n",
       "      <td>0.001184</td>\n",
       "      <td>-0.000041</td>\n",
       "      <td>0.000001</td>\n",
       "      <td>-4.819171e-08</td>\n",
       "      <td>1.657932e-09</td>\n",
       "      <td>-5.703760e-11</td>\n",
       "      <td>1.962256e-12</td>\n",
       "    </tr>\n",
       "    <tr>\n",
       "      <th>20</th>\n",
       "      <td>0.748722</td>\n",
       "      <td>0.527797</td>\n",
       "      <td>0.560585</td>\n",
       "      <td>0.419722</td>\n",
       "      <td>0.314255</td>\n",
       "      <td>2.352896e-01</td>\n",
       "      <td>1.761665e-01</td>\n",
       "      <td>1.318997e-01</td>\n",
       "      <td>9.875620e-02</td>\n",
       "    </tr>\n",
       "    <tr>\n",
       "      <th>21</th>\n",
       "      <td>0.630386</td>\n",
       "      <td>2.812519</td>\n",
       "      <td>0.397387</td>\n",
       "      <td>0.250507</td>\n",
       "      <td>0.157916</td>\n",
       "      <td>9.954825e-02</td>\n",
       "      <td>6.275385e-02</td>\n",
       "      <td>3.955916e-02</td>\n",
       "      <td>2.493755e-02</td>\n",
       "    </tr>\n",
       "    <tr>\n",
       "      <th>22</th>\n",
       "      <td>0.542701</td>\n",
       "      <td>0.286043</td>\n",
       "      <td>0.294524</td>\n",
       "      <td>0.159839</td>\n",
       "      <td>0.086744</td>\n",
       "      <td>4.707631e-02</td>\n",
       "      <td>2.554835e-02</td>\n",
       "      <td>1.386511e-02</td>\n",
       "      <td>7.524607e-03</td>\n",
       "    </tr>\n",
       "    <tr>\n",
       "      <th>23</th>\n",
       "      <td>0.139904</td>\n",
       "      <td>-0.759335</td>\n",
       "      <td>0.019573</td>\n",
       "      <td>0.002738</td>\n",
       "      <td>0.000383</td>\n",
       "      <td>5.359888e-05</td>\n",
       "      <td>7.498716e-06</td>\n",
       "      <td>1.049103e-06</td>\n",
       "      <td>1.467740e-07</td>\n",
       "    </tr>\n",
       "    <tr>\n",
       "      <th>24</th>\n",
       "      <td>-0.288436</td>\n",
       "      <td>-0.800124</td>\n",
       "      <td>0.083196</td>\n",
       "      <td>-0.023997</td>\n",
       "      <td>0.006921</td>\n",
       "      <td>-1.996412e-03</td>\n",
       "      <td>5.758380e-04</td>\n",
       "      <td>-1.660926e-04</td>\n",
       "      <td>4.790716e-05</td>\n",
       "    </tr>\n",
       "    <tr>\n",
       "      <th>25</th>\n",
       "      <td>-1.817664</td>\n",
       "      <td>0.134200</td>\n",
       "      <td>3.303902</td>\n",
       "      <td>-6.005382</td>\n",
       "      <td>10.915765</td>\n",
       "      <td>-1.984119e+01</td>\n",
       "      <td>3.606461e+01</td>\n",
       "      <td>-6.555334e+01</td>\n",
       "      <td>1.191539e+02</td>\n",
       "    </tr>\n",
       "    <tr>\n",
       "      <th>26</th>\n",
       "      <td>-1.788000</td>\n",
       "      <td>-0.564404</td>\n",
       "      <td>3.196946</td>\n",
       "      <td>-5.716140</td>\n",
       "      <td>10.220461</td>\n",
       "      <td>-1.827419e+01</td>\n",
       "      <td>3.267426e+01</td>\n",
       "      <td>-5.842159e+01</td>\n",
       "      <td>1.044578e+02</td>\n",
       "    </tr>\n",
       "    <tr>\n",
       "      <th>27</th>\n",
       "      <td>-0.107524</td>\n",
       "      <td>0.556506</td>\n",
       "      <td>0.011561</td>\n",
       "      <td>-0.001243</td>\n",
       "      <td>0.000134</td>\n",
       "      <td>-1.437232e-05</td>\n",
       "      <td>1.545369e-06</td>\n",
       "      <td>-1.661643e-07</td>\n",
       "      <td>1.786665e-08</td>\n",
       "    </tr>\n",
       "    <tr>\n",
       "      <th>28</th>\n",
       "      <td>-1.026847</td>\n",
       "      <td>0.921336</td>\n",
       "      <td>1.054414</td>\n",
       "      <td>-1.082721</td>\n",
       "      <td>1.111789</td>\n",
       "      <td>-1.141636e+00</td>\n",
       "      <td>1.172285e+00</td>\n",
       "      <td>-1.203757e+00</td>\n",
       "      <td>1.236074e+00</td>\n",
       "    </tr>\n",
       "    <tr>\n",
       "      <th>29</th>\n",
       "      <td>-1.356462</td>\n",
       "      <td>0.450548</td>\n",
       "      <td>1.839988</td>\n",
       "      <td>-2.495873</td>\n",
       "      <td>3.385555</td>\n",
       "      <td>-4.592376e+00</td>\n",
       "      <td>6.229381e+00</td>\n",
       "      <td>-8.449916e+00</td>\n",
       "      <td>1.146199e+01</td>\n",
       "    </tr>\n",
       "  </tbody>\n",
       "</table>\n",
       "</div>"
      ],
      "text/plain": [
       "          X1         Y        X2        X3         X4            X5  \\\n",
       "10  1.040959 -1.192588  1.083595  1.127978   1.174178  1.222271e+00   \n",
       "11  1.062186 -1.214589  1.128239  1.198399   1.272923  1.352081e+00   \n",
       "12 -1.452505  1.270150  2.109771 -3.064454   4.451135 -6.465297e+00   \n",
       "13 -1.219099  0.928719  1.486202 -1.811827   2.208797 -2.692742e+00   \n",
       "14  0.256900  0.292563  0.065997  0.016955   0.004356  1.118968e-03   \n",
       "15  0.652387  0.397325  0.425609  0.277662   0.181143  1.181755e-01   \n",
       "16  0.071409 -0.202786  0.005099  0.000364   0.000026  1.856770e-06   \n",
       "17 -1.275722  2.329165  1.627466 -2.076194   2.648645 -3.378935e+00   \n",
       "18  0.900076  0.601183  0.810138  0.729186   0.656323  5.907408e-01   \n",
       "19 -0.034403  0.127894  0.001184 -0.000041   0.000001 -4.819171e-08   \n",
       "20  0.748722  0.527797  0.560585  0.419722   0.314255  2.352896e-01   \n",
       "21  0.630386  2.812519  0.397387  0.250507   0.157916  9.954825e-02   \n",
       "22  0.542701  0.286043  0.294524  0.159839   0.086744  4.707631e-02   \n",
       "23  0.139904 -0.759335  0.019573  0.002738   0.000383  5.359888e-05   \n",
       "24 -0.288436 -0.800124  0.083196 -0.023997   0.006921 -1.996412e-03   \n",
       "25 -1.817664  0.134200  3.303902 -6.005382  10.915765 -1.984119e+01   \n",
       "26 -1.788000 -0.564404  3.196946 -5.716140  10.220461 -1.827419e+01   \n",
       "27 -0.107524  0.556506  0.011561 -0.001243   0.000134 -1.437232e-05   \n",
       "28 -1.026847  0.921336  1.054414 -1.082721   1.111789 -1.141636e+00   \n",
       "29 -1.356462  0.450548  1.839988 -2.495873   3.385555 -4.592376e+00   \n",
       "\n",
       "              X6            X7            X8  \n",
       "10  1.272333e+00  1.324446e+00  1.378694e+00  \n",
       "11  1.436161e+00  1.525470e+00  1.620333e+00  \n",
       "12  9.390878e+00 -1.364030e+01  1.981260e+01  \n",
       "13  3.282718e+00 -4.001958e+00  4.878783e+00  \n",
       "14  2.874625e-04  7.384901e-05  1.897179e-05  \n",
       "15  7.709617e-02  5.029656e-02  3.281283e-02  \n",
       "16  1.325897e-07  9.468071e-09  6.761034e-10  \n",
       "17  4.310580e+00 -5.499101e+00  7.015323e+00  \n",
       "18  5.317118e-01  4.785813e-01  4.307597e-01  \n",
       "19  1.657932e-09 -5.703760e-11  1.962256e-12  \n",
       "20  1.761665e-01  1.318997e-01  9.875620e-02  \n",
       "21  6.275385e-02  3.955916e-02  2.493755e-02  \n",
       "22  2.554835e-02  1.386511e-02  7.524607e-03  \n",
       "23  7.498716e-06  1.049103e-06  1.467740e-07  \n",
       "24  5.758380e-04 -1.660926e-04  4.790716e-05  \n",
       "25  3.606461e+01 -6.555334e+01  1.191539e+02  \n",
       "26  3.267426e+01 -5.842159e+01  1.044578e+02  \n",
       "27  1.545369e-06 -1.661643e-07  1.786665e-08  \n",
       "28  1.172285e+00 -1.203757e+00  1.236074e+00  \n",
       "29  6.229381e+00 -8.449916e+00  1.146199e+01  "
      ]
     },
     "execution_count": 354,
     "metadata": {},
     "output_type": "execute_result"
    }
   ],
   "source": [
    "# above not responding so create on own\n",
    "def kfolds(data, k ):\n",
    "    train = []\n",
    "    valid = []\n",
    "    n = len(data)\n",
    "    for i in range(n):\n",
    "        start = int((n*i)/k)\n",
    "        end = int((n*(i+1))/k)\n",
    "        val = data[start:end]\n",
    "        tra = data[0:start].append(data[end:])\n",
    "        train.append(tra)\n",
    "        valid.append(val)\n",
    "    return train ,valid\n",
    "train ,valid = kfolds(da,3)\n",
    "len(train[0]),len(valid[1])\n",
    "train[0]"
   ]
  },
  {
   "cell_type": "code",
   "execution_count": 355,
   "metadata": {},
   "outputs": [
    {
     "data": {
      "text/plain": [
       "2"
      ]
     },
     "execution_count": 355,
     "metadata": {},
     "output_type": "execute_result"
    }
   ],
   "source": [
    "tr = kfolds(da,3)\n",
    "len(tr)\n"
   ]
  },
  {
   "cell_type": "code",
   "execution_count": 356,
   "metadata": {},
   "outputs": [],
   "source": [
    "def split_data(train):\n",
    "    train_y = train['Y']\n",
    "    #print(train_y)\n",
    "    train_x = train.drop('Y',axis =1)\n",
    "    #print(train_y)\n",
    "    return train_x,train_y "
   ]
  },
  {
   "cell_type": "code",
   "execution_count": 357,
   "metadata": {
    "scrolled": true
   },
   "outputs": [
    {
     "name": "stdout",
     "output_type": "stream",
     "text": [
      "0     3.050759\n",
      "1    -0.044144\n",
      "2     1.015759\n",
      "3    -0.444713\n",
      "4     0.039178\n",
      "5    -0.038238\n",
      "6    -1.738675\n",
      "7    -2.075279\n",
      "8    -0.712749\n",
      "9     0.161015\n",
      "10   -1.192588\n",
      "11   -1.214589\n",
      "12    1.270150\n",
      "13    0.928719\n",
      "14    0.292563\n",
      "15    0.397325\n",
      "16   -0.202786\n",
      "17    2.329165\n",
      "18    0.601183\n",
      "19    0.127894\n",
      "20    0.527797\n",
      "21    2.812519\n",
      "22    0.286043\n",
      "23   -0.759335\n",
      "24   -0.800124\n",
      "25    0.134200\n",
      "26   -0.564404\n",
      "27    0.556506\n",
      "28    0.921336\n",
      "29    0.450548\n",
      "Name: Y, dtype: float64\n"
     ]
    }
   ],
   "source": [
    "x ,y = split_data(da)\n",
    "print(y)"
   ]
  },
  {
   "cell_type": "code",
   "execution_count": 414,
   "metadata": {},
   "outputs": [],
   "source": [
    "# LOO cross validation -- return the average MSE\n",
    "def loo(data, deg,  l2_penalty_values):\n",
    "    \n",
    "    # Create polynomial features\n",
    "    data = polynomial_features(data, deg)\n",
    "    \n",
    "    # Create as many folds for cross validatation as number of data points\n",
    "    num_folds = int(len(data)/10)\n",
    "    train, valid = kfolds(data,num_folds)\n",
    "    \n",
    "    # for each value of l2_penalty, fit a model for each fold and compute average MSE\n",
    "    l2_penalty_mse = []\n",
    "    min_mse = None\n",
    "    best_l2_penalty = None\n",
    "    for l2_penalty in l2_penalty_values:\n",
    "        next_mse = 0.0\n",
    "        for i in range(num_folds):\n",
    "            train_x ,train_y = split_data(train[i])\n",
    "            # train model\n",
    "            model = Ridge(alpha = l2_penalty)\n",
    "            model.fit(train_x , train_y)\n",
    "            #print(model.predict(train_x))\n",
    "            # predict on validation set \n",
    "            valid_x ,valid_y = split_data(valid[i])\n",
    "            y_valid_predicted = model.predict(valid_x)\n",
    "            #print(y_valid_predicted)\n",
    "            # compute squared error\n",
    "            res = (y_valid_predicted - valid_y)\n",
    "            next_mse += (res**2).sum()\n",
    "        \n",
    "        # save squared error in list of MSE for each l2_penalty\n",
    "        next_mse = next_mse/num_folds\n",
    "        l2_penalty_mse.append(next_mse)\n",
    "        if min_mse is None or next_mse > min_mse:\n",
    "            min_mse = next_mse\n",
    "            best_l2_penalty = l2_penalty\n",
    "            \n",
    "    return l2_penalty_mse,best_l2_penalty"
   ]
  },
  {
   "cell_type": "markdown",
   "metadata": {},
   "source": [
    "Run LOO cross validation for \"num\" values of lambda, on a log scale"
   ]
  },
  {
   "cell_type": "code",
   "execution_count": 415,
   "metadata": {},
   "outputs": [],
   "source": [
    "l2_penalty_values = np.logspace(-4, 10, num=10)\n",
    "l2_penalty_mse,best_l2_penalty = loo(data, 16, l2_penalty_values)"
   ]
  },
  {
   "cell_type": "code",
   "execution_count": 416,
   "metadata": {},
   "outputs": [
    {
     "name": "stdout",
     "output_type": "stream",
     "text": [
      "[4616979.715966418, 3440.866070137877, 172997.23837732928, 3206.2772026444186, 56602.870182479586, 124.6480421452349, 434.61656274793796, 16.141683887968828, 13.867692683746776, 13.773907927488217] 0.0001\n"
     ]
    }
   ],
   "source": [
    "print(l2_penalty_mse,best_l2_penalty)"
   ]
  },
  {
   "cell_type": "markdown",
   "metadata": {},
   "source": [
    "Plot results of estimating LOO for each value of lambda"
   ]
  },
  {
   "cell_type": "code",
   "execution_count": 417,
   "metadata": {},
   "outputs": [
    {
     "name": "stdout",
     "output_type": "stream",
     "text": [
      "l2_penalty_values [1.00000000e-04 3.59381366e-03 1.29154967e-01 4.64158883e+00\n",
      " 1.66810054e+02 5.99484250e+03 2.15443469e+05 7.74263683e+06\n",
      " 2.78255940e+08 1.00000000e+10]\n"
     ]
    },
    {
     "data": {
      "image/png": "[encoded data removed]",
      "text/plain": [
       "<Figure size 432x288 with 1 Axes>"
      ]
     },
     "metadata": {
      "needs_background": "light"
     },
     "output_type": "display_data"
    }
   ],
   "source": [
    "print('l2_penalty_values', l2_penalty_values)\n",
    "plt.plot(l2_penalty_values,l2_penalty_mse,'g-')\n",
    "plt.xlabel('$\\ell_2$ penalty')\n",
    "plt.ylabel('LOO cross validation error')\n",
    "plt.xscale('log')\n",
    "plt.yscale('log')"
   ]
  },
  {
   "cell_type": "markdown",
   "metadata": {},
   "source": [
    "Find the value of lambda, $\\lambda_{\\mathrm{CV}}$, that minimizes the LOO cross validation error, and plot resulting fit"
   ]
  },
  {
   "cell_type": "code",
   "execution_count": 418,
   "metadata": {},
   "outputs": [
    {
     "data": {
      "text/plain": [
       "0.0001"
      ]
     },
     "execution_count": 418,
     "metadata": {},
     "output_type": "execute_result"
    }
   ],
   "source": [
    "best_l2_penalty"
   ]
  },
  {
   "cell_type": "code",
   "execution_count": 419,
   "metadata": {},
   "outputs": [
    {
     "name": "stdout",
     "output_type": "stream",
     "text": [
      "Learned polynomial for degree 17:\n",
      "           16            15             14             13\n",
      "1.343e-05 x  + 4.45e-05 x  - 1.249e-05 x  - 0.0001349 x \n",
      "              12             11            10            9\n",
      " - 5.361e-06 x  + 0.0001499 x  - 1.76e-05 x  - 8.48e-07 x\n",
      "              8             7            6             5             4\n",
      " + 6.934e-05 x - 0.0001264 x - 0.000105 x + 4.218e-05 x + 7.557e-05 x\n",
      "              3             2\n",
      " + 1.318e-05 x - 1.674e-05 x + 1 x + 6.902e-06\n"
     ]
    }
   ],
   "source": [
    "model = polynomial_ridge_regression(data, 16, y, l2_penalty=best_l2_penalty)\n",
    "print_coefficients(model)"
   ]
  },
  {
   "cell_type": "code",
   "execution_count": 420,
   "metadata": {},
   "outputs": [
    {
     "data": {
      "image/png": "[encoded data removed]",
      "text/plain": [
       "<Figure size 432x288 with 1 Axes>"
      ]
     },
     "metadata": {
      "needs_background": "light"
     },
     "output_type": "display_data"
    }
   ],
   "source": [
    "plot_poly_predictions(data,model)"
   ]
  },
  {
   "cell_type": "markdown",
   "metadata": {},
   "source": [
    "# "
   ]
  },
  {
   "cell_type": "markdown",
   "metadata": {},
   "source": [
    "# "
   ]
  },
  {
   "cell_type": "markdown",
   "metadata": {},
   "source": [
    "# "
   ]
  },
  {
   "cell_type": "markdown",
   "metadata": {},
   "source": [
    "# "
   ]
  },
  {
   "cell_type": "markdown",
   "metadata": {
    "collapsed": true
   },
   "source": [
    "# Lasso Regression"
   ]
  },
  {
   "cell_type": "markdown",
   "metadata": {},
   "source": [
    "Lasso regression jointly shrinks coefficients to avoid overfitting, and implicitly performs feature selection by setting some coefficients exactly to 0 for sufficiently large penalty strength lambda (here called \"L1_penalty\").  In particular, lasso takes the RSS term of standard least squares and adds a 1-norm cost of the coefficients $\\|w\\|$."
   ]
  },
  {
   "cell_type": "markdown",
   "metadata": {},
   "source": [
    "Define our function to solve the lasso objective for a polynomial regression model of any degree:"
   ]
  },
  {
   "cell_type": "code",
   "execution_count": 457,
   "metadata": {},
   "outputs": [],
   "source": [
    "def polynomial_lasso_regression(data, deg,y, l1_penalty):\n",
    "    x = polynomial_features(data,deg)\n",
    "    model = Lasso(alpha = l1_penalty,max_iter = 1000, tol = 1e-5 ,normalize = True ,selection = 'random')\n",
    "    model.fit(x,y )\n",
    "    return model"
   ]
  },
  {
   "cell_type": "code",
   "execution_count": 460,
   "metadata": {},
   "outputs": [
    {
     "name": "stdout",
     "output_type": "stream",
     "text": [
      "Lasso(alpha=100, copy_X=True, fit_intercept=True, max_iter=1000,\n",
      "   normalize=True, positive=False, precompute=False, random_state=None,\n",
      "   selection='random', tol=1e-05, warm_start=False)\n"
     ]
    }
   ],
   "source": [
    "model_tt = polynomial_lasso_regression(x, 8,y,100)\n",
    "pred_yy = model_tt.predict(x)\n",
    "print(model_tt )"
   ]
  },
  {
   "cell_type": "markdown",
   "metadata": {},
   "source": [
    "## Explore the lasso solution as a function of a few different penalty strengths"
   ]
  },
  {
   "cell_type": "markdown",
   "metadata": {},
   "source": [
    "We refer to lambda in the lasso case below as \"l1_penalty\""
   ]
  },
  {
   "cell_type": "code",
   "execution_count": 468,
   "metadata": {
    "scrolled": false
   },
   "outputs": [
    {
     "name": "stderr",
     "output_type": "stream",
     "text": [
      "C:\\Users\\Srikanth\\AppData\\Local\\conda\\conda\\envs\\SRI\\lib\\site-packages\\sklearn\\linear_model\\coordinate_descent.py:492: ConvergenceWarning: Objective did not converge. You might want to increase the number of iterations. Fitting data with very small alpha may cause precision problems.\n",
      "  ConvergenceWarning)\n",
      "C:\\Users\\Srikanth\\AppData\\Local\\conda\\conda\\envs\\SRI\\lib\\site-packages\\sklearn\\linear_model\\coordinate_descent.py:492: ConvergenceWarning: Objective did not converge. You might want to increase the number of iterations. Fitting data with very small alpha may cause precision problems.\n",
      "  ConvergenceWarning)\n"
     ]
    },
    {
     "name": "stdout",
     "output_type": "stream",
     "text": [
      "l1_penalty =  0.0001\n",
      "number of nonzeros = 16\n",
      "Learned polynomial for degree 16:\n",
      "           15           14             13             12     10\n",
      "0.0003206 x  - 0.00062 x  + 0.0006583 x  - 0.0008014 x  - 0 x \n",
      "             9           8           7          6          5\n",
      " - 0.003957 x + 0.00274 x - 0.05778 x + 0.0539 x - 0.3664 x\n",
      "            4          3         2\n",
      " - 0.06846 x - 0.8439 x - 3.079 x + 1.796 x + 2.391\n",
      "\n",
      "\n",
      "l1_penalty =  0.01\n",
      "number of nonzeros = 16\n",
      "Learned polynomial for degree 16:\n",
      "            11            9     7     5     3          2\n",
      "-3.934e-05 x  - 0.007196 x - 0 x - 0 x - 0 x - 0.2879 x + 0.3385 x - 0\n",
      "\n",
      "\n",
      "l1_penalty =  0.1\n",
      "number of nonzeros = 16\n",
      "Learned polynomial for degree 16:\n",
      " \n",
      "0\n",
      "\n",
      "\n",
      "l1_penalty =  10\n",
      "number of nonzeros = 16\n",
      "Learned polynomial for degree 16:\n",
      " \n",
      "0\n",
      "\n",
      "\n"
     ]
    },
    {
     "data": {
      "image/png": "[encoded data removed]",
      "text/plain": [
       "<Figure size 432x288 with 1 Axes>"
      ]
     },
     "metadata": {
      "needs_background": "light"
     },
     "output_type": "display_data"
    },
    {
     "data": {
      "image/png": "[encoded data removed]",
      "text/plain": [
       "<Figure size 432x288 with 1 Axes>"
      ]
     },
     "metadata": {
      "needs_background": "light"
     },
     "output_type": "display_data"
    },
    {
     "data": {
      "image/png": "[encoded data removed]",
      "text/plain": [
       "<Figure size 432x288 with 1 Axes>"
      ]
     },
     "metadata": {
      "needs_background": "light"
     },
     "output_type": "display_data"
    },
    {
     "data": {
      "image/png": "[encoded data removed]",
      "text/plain": [
       "<Figure size 432x288 with 1 Axes>"
      ]
     },
     "metadata": {
      "needs_background": "light"
     },
     "output_type": "display_data"
    }
   ],
   "source": [
    "for l1_penalty in [0.0001, 0.01, 0.1, 10]:\n",
    "    model = polynomial_lasso_regression(x, 16,y ,l1_penalty)\n",
    "    print ('l1_penalty = ',  l1_penalty )\n",
    "    print ('number of nonzeros = %d' % len(model.coef_) ) # get non zeros change it\n",
    "    print_coefficients(model)\n",
    "    print ('\\n')\n",
    "    plt.figure()\n",
    "    plot_poly_predictions(data,model)\n",
    "    #plt.title('LASSO ', lambda =  # nonzeros = ',  (l1_penalty, (model.coefficients['value']).nnz())"
   ]
  },
  {
   "cell_type": "markdown",
   "metadata": {
    "collapsed": true
   },
   "source": [
    "Above: We see that as lambda increases, we get sparser and sparser solutions.  However, even for our non-sparse case for lambda=0.0001, the fit of our high-order polynomial is not too wild.  This is because, like in ridge, coefficients included in the lasso solution are shrunk relative to those of the least squares (unregularized) solution.  This leads to better behavior even without sparsity.  Of course, as lambda goes to 0, the amount of this shrinkage decreases and the lasso solution approaches the (wild) least squares solution."
   ]
  },
  {
   "cell_type": "code",
   "execution_count": null,
   "metadata": {},
   "outputs": [],
   "source": []
  },
  {
   "cell_type": "code",
   "execution_count": null,
   "metadata": {
    "collapsed": true
   },
   "outputs": [],
   "source": []
  }
 ],
 "metadata": {
  "kernelspec": {
   "display_name": "Python 3",
   "language": "python",
   "name": "python3"
  },
  "language_info": {
   "codemirror_mode": {
    "name": "ipython",
    "version": 3
   },
   "file_extension": ".py",
   "mimetype": "text/x-python",
   "name": "python",
   "nbconvert_exporter": "python",
   "pygments_lexer": "ipython3",
   "version": "3.6.7"
  }
 },
 "nbformat": 4,
 "nbformat_minor": 1
}
