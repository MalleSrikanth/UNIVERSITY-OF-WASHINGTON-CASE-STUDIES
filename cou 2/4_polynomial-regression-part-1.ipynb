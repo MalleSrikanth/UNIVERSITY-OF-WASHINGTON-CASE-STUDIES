{
 "cells": [
  {
   "cell_type": "markdown",
   "metadata": {},
   "source": [
    "# Regression : Assessing Fit (polynomial regression)"
   ]
  },
  {
   "cell_type": "markdown",
   "metadata": {},
   "source": [
    "In this notebook you will compare different regression models in order to assess which model fits best. We will be using polynomial regression as a means to examine this topic. In particular you will:\n",
    "* Write a function to take an Array and a degree and return an pandas where each column is the Array to a polynomial value up to the total degree e.g. degree = 3 then column 1 is the Array column 2 is the Array squared and column 3 is the Array cubed\n",
    "* Use matplotlib to visualize polynomial regressions\n",
    "* Use matplotlib to visualize the same polynomial degree on different subsets of the data\n",
    "* Use a validation set to select a polynomial degree\n",
    "* Assess the final fit using test data\n",
    "\n",
    "We will continue to use the House data from previous notebooks."
   ]
  },
  {
   "cell_type": "code",
   "execution_count": 1,
   "metadata": {},
   "outputs": [],
   "source": [
    "import numpy as np\n",
    "import pandas as pd\n",
    "import matplotlib.pyplot as plt\n",
    "%matplotlib inline"
   ]
  },
  {
   "cell_type": "markdown",
   "metadata": {},
   "source": [
    "Next we're going to write a polynomial function that takes an Array and a maximal degree and returns an pandas with columns containing the Array to all the powers up to the maximal degree.\n",
    "\n",
    "The easiest way to apply a power to an Array is to use the .apply() and lambda x: functions. \n",
    "For example to take the example array and compute the third power "
   ]
  },
  {
   "cell_type": "code",
   "execution_count": 7,
   "metadata": {},
   "outputs": [
    {
     "name": "stdout",
     "output_type": "stream",
     "text": [
      "[1. 2. 3.]\n",
      "a     1\n",
      "b     8\n",
      "c    27\n",
      "dtype: int64\n"
     ]
    }
   ],
   "source": [
    "tmp = np.array([1., 2., 3.])\n",
    "ts = pd.Series([1,2,3],index =['a','b','c']) # ndarray is can't covert using lambda because ndarray not has apply function\n",
    "tmp_cubed = ts.apply(lambda x: x**3)\n",
    "print (tmp)\n",
    "print (tmp_cubed)"
   ]
  },
  {
   "cell_type": "code",
   "execution_count": 13,
   "metadata": {},
   "outputs": [
    {
     "data": {
      "text/plain": [
       "(3,)"
      ]
     },
     "execution_count": 13,
     "metadata": {},
     "output_type": "execute_result"
    }
   ],
   "source": [
    "ss = tmp*[2]\n",
    "ss.shape"
   ]
  },
  {
   "cell_type": "markdown",
   "metadata": {},
   "source": [
    "We can create an empty dataframe using pandas.DataFrame() and then add any columns to it with ex_sframe['column_name'] = value. For example we create an empty DataFrame and make the column 'power_1' to be the first power of tmp (i.e. tmp itself)."
   ]
  },
  {
   "cell_type": "code",
   "execution_count": 14,
   "metadata": {},
   "outputs": [
    {
     "name": "stdout",
     "output_type": "stream",
     "text": [
      "[ 1. 16. 81.]\n"
     ]
    }
   ],
   "source": [
    "tu=(tmp**4)\n",
    "print (tu)"
   ]
  },
  {
   "cell_type": "code",
   "execution_count": 15,
   "metadata": {},
   "outputs": [
    {
     "name": "stdout",
     "output_type": "stream",
     "text": [
      "Empty DataFrame\n",
      "Columns: []\n",
      "Index: []\n",
      "   power_1\n",
      "0      1.0\n",
      "1      2.0\n",
      "2      3.0\n"
     ]
    }
   ],
   "source": [
    "ex_sframe = pd.DataFrame()\n",
    "print (ex_sframe)\n",
    "ex_sframe['power_1'] = tmp\n",
    "print (ex_sframe)"
   ]
  },
  {
   "cell_type": "markdown",
   "metadata": {},
   "source": [
    "# Polynomial_dataframe function"
   ]
  },
  {
   "cell_type": "markdown",
   "metadata": {},
   "source": [
    "Using the hints above complete the following function to create an dataFrame consisting of the powers of an Array up to a specific degree:"
   ]
  },
  {
   "cell_type": "code",
   "execution_count": 16,
   "metadata": {},
   "outputs": [],
   "source": [
    "def polynomial_frame(feature, degree):\n",
    "    # assume that degree >= 1\n",
    "    # initialize the SFrame:\n",
    "    poly_frame = pd.DataFrame()\n",
    "    # and set poly_sframe['power_1'] equal to the passed feature\n",
    "    poly_frame['power_1']=feature\n",
    "\n",
    "    # first check if degree > 1\n",
    "    if degree > 1:\n",
    "        # then loop over the remaining degrees:\n",
    "        # range usually starts at 0 and stops at the endpoint-1. We want it to start at 2 and stop at degree\n",
    "        #for power in range(2, degree+1): \n",
    "         for power in range(1,degree+1):\n",
    "            # first we'll give the column a name:\n",
    "            name = 'power_' + str(power)\n",
    "            # then assign poly_sframe[name] to the appropriate power of feature\n",
    "            poly_frame[name]=feature**power\n",
    "\n",
    "    return poly_frame"
   ]
  },
  {
   "cell_type": "markdown",
   "metadata": {},
   "source": [
    "To test your function consider the smaller tmp variable and what you would expect the outcome of the following call:"
   ]
  },
  {
   "cell_type": "code",
   "execution_count": 17,
   "metadata": {},
   "outputs": [
    {
     "name": "stdout",
     "output_type": "stream",
     "text": [
      "(3, 3)    power_1  power_2  power_3\n",
      "0      1.0      1.0      1.0\n",
      "1      2.0      4.0      8.0\n",
      "2      3.0      9.0     27.0\n"
     ]
    }
   ],
   "source": [
    "tp3 = polynomial_frame(tmp, 3)\n",
    "print (tp3.shape ,tp3 )"
   ]
  },
  {
   "cell_type": "markdown",
   "metadata": {},
   "source": [
    "# Visualizing polynomial regression"
   ]
  },
  {
   "cell_type": "markdown",
   "metadata": {},
   "source": [
    "Let's use matplotlib to visualize what a polynomial regression looks like on some real data."
   ]
  },
  {
   "cell_type": "code",
   "execution_count": 18,
   "metadata": {},
   "outputs": [],
   "source": [
    "sales = pd.read_csv('kc_house_data.csv')"
   ]
  },
  {
   "cell_type": "markdown",
   "metadata": {},
   "source": [
    "As in Week 3, we will use the sqft_living variable. For plotting purposes (connecting the dots), you'll need to sort by the values of sqft_living. For houses with identical square footage, we break the tie by their prices."
   ]
  },
  {
   "cell_type": "code",
   "execution_count": 20,
   "metadata": {},
   "outputs": [
    {
     "name": "stdout",
     "output_type": "stream",
     "text": [
      "               id             date      price  bedrooms  bathrooms  \\\n",
      "19452  3980300371  20140926T000000   142000.0         0       0.00   \n",
      "15381  2856101479  20140701T000000   276000.0         1       0.75   \n",
      "860    1723049033  20140620T000000   245000.0         1       0.75   \n",
      "18379  1222029077  20141029T000000   265000.0         0       0.75   \n",
      "4868   6896300380  20141002T000000   228000.0         0       1.00   \n",
      "21332  9266700190  20150511T000000   245000.0         1       1.00   \n",
      "8623   6303400395  20150130T000000   325000.0         1       0.75   \n",
      "11500  4322200105  20150331T000000   229050.0         1       1.00   \n",
      "14466  7549801385  20140612T000000   280000.0         1       0.75   \n",
      "465    8658300340  20140523T000000    80000.0         1       0.75   \n",
      "1168   3523029041  20141009T000000   290000.0         2       0.75   \n",
      "18052  1352300580  20141114T000000   247000.0         1       1.00   \n",
      "12075  8655900162  20150219T000000   156000.0         1       0.75   \n",
      "15248  1320069249  20141020T000000   192500.0         1       1.00   \n",
      "17394   745000005  20140825T000000   145000.0         1       0.75   \n",
      "8133   7849202585  20140904T000000   170000.0         1       1.00   \n",
      "4203   1437500015  20140709T000000   150000.0         3       0.75   \n",
      "4651    859000110  20141002T000000   125000.0         1       1.00   \n",
      "2141   1623049041  20140508T000000    82500.0         2       1.00   \n",
      "3223   2420069251  20150225T000000   262000.0         1       0.75   \n",
      "18059  1773101530  20141218T000000   275000.0         1       1.00   \n",
      "2930   3702900165  20141104T000000   295000.0         1       1.00   \n",
      "6779   7588700177  20150420T000000   310000.0         1       0.75   \n",
      "9641   4391600065  20140814T000000   330000.0         2       0.75   \n",
      "12484  1172000150  20140829T000000   238000.0         1       1.00   \n",
      "3582   1925069006  20141203T000000   355000.0         1       0.75   \n",
      "7017    203100460  20140924T000000   400000.0         1       1.00   \n",
      "14450   126039305  20141013T000000   345000.0         1       1.00   \n",
      "12757  2767603026  20150415T000000   425000.0         2       1.00   \n",
      "18508   623049232  20140715T000000   115000.0         2       0.75   \n",
      "...           ...              ...        ...       ...        ...   \n",
      "12872  2424049029  20140529T000000  3100000.0         6       4.25   \n",
      "15482   624069108  20140812T000000  3200000.0         4       3.25   \n",
      "7035    853200010  20140701T000000  3800000.0         5       5.50   \n",
      "4149   6447300265  20141014T000000  4000000.0         4       5.50   \n",
      "7907   1068000375  20140923T000000  3200000.0         6       5.00   \n",
      "21050  2424059170  20150219T000000   900000.0         5       6.00   \n",
      "6501   2626069030  20150209T000000  1940000.0         4       5.75   \n",
      "21506  2524069097  20140509T000000  2238890.0         5       6.50   \n",
      "18594  3023069166  20140708T000000  1135250.0         5       4.00   \n",
      "2713   7851980260  20140730T000000  1110000.0         5       3.50   \n",
      "1315   7558700030  20150413T000000  5300000.0         6       6.00   \n",
      "10373  3303850390  20141212T000000  2983000.0         5       5.50   \n",
      "11871  8835800350  20150112T000000  1950000.0         4       3.25   \n",
      "12370  6065300370  20150506T000000  4208000.0         5       6.00   \n",
      "4024   9175600025  20141007T000000   800000.0         7       6.75   \n",
      "14032  3459900230  20141125T000000  1680000.0         4       3.75   \n",
      "18477  1346300150  20141020T000000  3300000.0         8       4.00   \n",
      "16773  1630700380  20150130T000000  1920000.0         5       5.75   \n",
      "19858  2524069078  20150122T000000  2700000.0         4       4.00   \n",
      "13411  2426039123  20150130T000000  2415000.0         5       4.75   \n",
      "1448   8907500070  20150413T000000  5350000.0         5       5.00   \n",
      "1164   1247600105  20141020T000000  5110800.0         5       5.25   \n",
      "18302  6072800246  20140702T000000  3300000.0         5       6.25   \n",
      "14556  2303900035  20140611T000000  2888000.0         5       6.25   \n",
      "4411   2470100110  20140804T000000  5570000.0         5       5.75   \n",
      "8092   1924059029  20140617T000000  4668000.0         5       6.75   \n",
      "9254   9208900037  20140919T000000  6885000.0         6       7.75   \n",
      "3914   9808700762  20140611T000000  7062500.0         5       4.50   \n",
      "7252   6762700020  20141013T000000  7700000.0         6       8.00   \n",
      "12777  1225069038  20140505T000000  2280000.0         7       8.00   \n",
      "\n",
      "       sqft_living  sqft_lot  floors  waterfront  view     ...      grade  \\\n",
      "19452          290     20875     1.0           0     0     ...          1   \n",
      "15381          370      1801     1.0           0     0     ...          5   \n",
      "860            380     15000     1.0           0     0     ...          5   \n",
      "18379          384    213444     1.0           0     0     ...          4   \n",
      "4868           390      5900     1.0           0     0     ...          4   \n",
      "21332          390      2000     1.0           0     0     ...          6   \n",
      "8623           410      8636     1.0           0     0     ...          4   \n",
      "11500          420      3298     1.0           0     0     ...          4   \n",
      "14466          420      6720     1.0           0     0     ...          5   \n",
      "465            430      5050     1.0           0     0     ...          4   \n",
      "1168           440      8313     1.0           1     3     ...          5   \n",
      "18052          460      4120     1.0           0     0     ...          4   \n",
      "12075          470     15000     1.0           0     0     ...          4   \n",
      "15248          470     63737     1.0           0     2     ...          5   \n",
      "17394          480      9750     1.0           0     0     ...          4   \n",
      "8133           480      4560     1.0           0     0     ...          5   \n",
      "4203           490     38500     1.5           0     0     ...          5   \n",
      "4651           500      7440     1.0           0     0     ...          5   \n",
      "2141           520     22334     1.0           0     0     ...          5   \n",
      "3223           520     12981     1.0           0     0     ...          3   \n",
      "18059          520      4800     1.0           0     0     ...          5   \n",
      "2930           520      5600     1.0           0     0     ...          6   \n",
      "6779           520      2885     1.0           0     0     ...          6   \n",
      "9641           520      6862     1.0           0     0     ...          4   \n",
      "12484          530      6350     1.0           0     0     ...          5   \n",
      "3582           530     33278     1.0           0     2     ...          4   \n",
      "7017           530     13679     1.0           0     0     ...          6   \n",
      "14450          540     10125     1.0           0     0     ...          5   \n",
      "12757          540      2500     1.0           0     0     ...          5   \n",
      "18508          550      7980     1.0           0     0     ...          5   \n",
      "...            ...       ...     ...         ...   ...     ...        ...   \n",
      "12872         6980     15682     3.0           0     4     ...         12   \n",
      "15482         7000     28206     1.0           1     4     ...         12   \n",
      "7035          7050     42840     1.0           0     2     ...         13   \n",
      "4149          7080     16573     2.0           0     0     ...         12   \n",
      "7907          7100     18200     2.5           0     0     ...         13   \n",
      "21050         7120     40806     2.0           0     4     ...         12   \n",
      "6501          7220    223462     2.0           0     4     ...         12   \n",
      "21506         7270    130017     2.0           0     0     ...         12   \n",
      "18594         7320    217800     2.0           0     0     ...         11   \n",
      "2713          7350     12231     2.0           0     4     ...         11   \n",
      "1315          7390     24829     2.0           1     4     ...         12   \n",
      "10373         7400     18898     2.0           0     3     ...         13   \n",
      "11871         7420    167869     2.0           0     3     ...         12   \n",
      "12370         7440     21540     2.0           0     0     ...         12   \n",
      "4024          7480     41664     2.0           0     2     ...         11   \n",
      "14032         7620     29536     2.0           0     3     ...         11   \n",
      "18477         7710     11750     3.5           0     0     ...         12   \n",
      "16773         7730    230868     2.0           0     0     ...         12   \n",
      "19858         7850     89651     2.0           0     0     ...         12   \n",
      "13411         7880     24250     2.0           0     2     ...         13   \n",
      "1448          8000     23985     2.0           0     4     ...         12   \n",
      "1164          8010     45517     2.0           1     4     ...         12   \n",
      "18302         8020     21738     2.0           0     0     ...         11   \n",
      "14556         8670     64033     2.0           0     4     ...         13   \n",
      "4411          9200     35069     2.0           0     0     ...         13   \n",
      "8092          9640     13068     1.0           1     4     ...         12   \n",
      "9254          9890     31374     2.0           0     4     ...         13   \n",
      "3914         10040     37325     2.0           1     2     ...         11   \n",
      "7252         12050     27600     2.5           0     3     ...         13   \n",
      "12777        13540    307752     3.0           0     4     ...         12   \n",
      "\n",
      "       sqft_above  sqft_basement  yr_built  yr_renovated  zipcode      lat  \\\n",
      "19452         290              0      1963             0    98024  47.5308   \n",
      "15381         370              0      1923             0    98117  47.6778   \n",
      "860           380              0      1963             0    98168  47.4810   \n",
      "18379         384              0      2003             0    98070  47.4177   \n",
      "4868          390              0      1953             0    98118  47.5260   \n",
      "21332         390              0      1920             0    98103  47.6938   \n",
      "8623          410              0      1953             0    98146  47.5077   \n",
      "11500         420              0      1949             0    98136  47.5375   \n",
      "14466         420              0      1922             0    98108  47.5520   \n",
      "465           430              0      1912             0    98014  47.6499   \n",
      "1168          440              0      1943             0    98070  47.4339   \n",
      "18052         460              0      1937             0    98055  47.4868   \n",
      "12075         470              0      1947             0    98014  47.6554   \n",
      "15248         470              0      1924             0    98022  47.2163   \n",
      "17394         480              0      1948             0    98146  47.4982   \n",
      "8133          480              0      1922             0    98065  47.5253   \n",
      "4203          490              0      1959             0    98014  47.7112   \n",
      "4651          500              0      1928             0    98106  47.5252   \n",
      "2141          520              0      1951             0    98168  47.4799   \n",
      "3223          520              0      1920             0    98022  47.2082   \n",
      "18059         520              0      1930             0    98106  47.5533   \n",
      "2930          520              0      1918             0    98116  47.5579   \n",
      "6779          520              0      1947             0    98117  47.6886   \n",
      "9641          520              0      1924          1980    98010  47.3260   \n",
      "12484         530              0      1941             0    98103  47.6946   \n",
      "3582          530              0      1950             0    98074  47.6412   \n",
      "7017          530              0      1949             0    98053  47.6422   \n",
      "14450         540              0      1961             0    98177  47.7739   \n",
      "12757         540              0      1905             0    98107  47.6729   \n",
      "18508         550              0      1952             0    98146  47.5110   \n",
      "...           ...            ...       ...           ...      ...      ...   \n",
      "12872        5330           1650      1999             0    98040  47.5552   \n",
      "15482        3500           3500      1991             0    98075  47.5928   \n",
      "7035         4320           2730      1978             0    98004  47.6229   \n",
      "4149         5760           1320      2008             0    98039  47.6151   \n",
      "7907         5240           1860      1933          2002    98199  47.6427   \n",
      "21050        5480           1640      2007             0    98006  47.5451   \n",
      "6501         6220           1000      2000             0    98053  47.7097   \n",
      "21506        6420            850      2010             0    98027  47.5371   \n",
      "18594        7320              0      1992             0    98058  47.4473   \n",
      "2713         4750           2600      2001             0    98065  47.5373   \n",
      "1315         5000           2390      1991             0    98040  47.5631   \n",
      "10373        6290           1110      2001             0    98006  47.5431   \n",
      "11871        7420              0      2002             0    98045  47.4548   \n",
      "12370        5550           1890      2003             0    98006  47.5692   \n",
      "4024         5080           2400      1953             0    98166  47.4643   \n",
      "14032        5980           1640      2005             0    98006  47.5571   \n",
      "18477        6090           1620      1904             0    98112  47.6263   \n",
      "16773        6660           1070      2004             0    98077  47.7615   \n",
      "19858        7850              0      2006             0    98027  47.5406   \n",
      "13411        7880              0      1996             0    98177  47.7334   \n",
      "1448         6720           1280      2009             0    98004  47.6232   \n",
      "1164         5990           2020      1999             0    98033  47.6767   \n",
      "18302        8020              0      2001             0    98006  47.5675   \n",
      "14556        6120           2550      1965          2003    98177  47.7295   \n",
      "4411         6200           3000      2001             0    98039  47.6289   \n",
      "8092         4820           4820      1983          2009    98040  47.5570   \n",
      "9254         8860           1030      2001             0    98039  47.6305   \n",
      "3914         7680           2360      1940          2001    98004  47.6500   \n",
      "7252         8570           3480      1910          1987    98102  47.6298   \n",
      "12777        9410           4130      1999             0    98053  47.6675   \n",
      "\n",
      "          long  sqft_living15  sqft_lot15  \n",
      "19452 -121.888           1620       22850  \n",
      "15381 -122.389           1340        5000  \n",
      "860   -122.323           1170       15000  \n",
      "18379 -122.491           1920      224341  \n",
      "4868  -122.261           2170        6000  \n",
      "21332 -122.347           1340        5100  \n",
      "8623  -122.357           1190        8636  \n",
      "11500 -122.391           1460        4975  \n",
      "14466 -122.311           1420        6720  \n",
      "465   -121.909           1200        7500  \n",
      "1168  -122.512            880       26289  \n",
      "18052 -122.199            990        4120  \n",
      "12075 -121.908           1730       22500  \n",
      "15248 -121.984           1350       46762  \n",
      "17394 -122.362           1550        9924  \n",
      "8133  -121.826            890        4803  \n",
      "4203  -121.315            800       18297  \n",
      "4651  -122.362           1350        7440  \n",
      "2141  -122.296           1572       10570  \n",
      "3223  -121.995           1340       12233  \n",
      "18059 -122.363            800        4960  \n",
      "2930  -122.395           1030        5265  \n",
      "6779  -122.378            980        4241  \n",
      "9641  -122.037           1170        8756  \n",
      "12484 -122.357           1200        6350  \n",
      "3582  -122.079           2830       14311  \n",
      "7017  -121.954           1930       20624  \n",
      "14450 -122.358           1840       10125  \n",
      "12757 -122.383           1290        5000  \n",
      "18508 -122.348           1330        7980  \n",
      "...        ...            ...         ...  \n",
      "12872 -122.231           3930       18367  \n",
      "15482 -122.086           4913       14663  \n",
      "7035  -122.220           5070       20570  \n",
      "4149  -122.224           3140       15996  \n",
      "7907  -122.408           3130        6477  \n",
      "21050 -122.114           3440       36859  \n",
      "6501  -122.013           2680        7593  \n",
      "21506 -121.982           1800       44890  \n",
      "18594 -122.086           3270       34500  \n",
      "2713  -121.865           5380       12587  \n",
      "1315  -122.210           4320       24619  \n",
      "10373 -122.112           6110       26442  \n",
      "11871 -121.764           5610      169549  \n",
      "12370 -122.189           4740       19329  \n",
      "4024  -122.368           2810       33190  \n",
      "14032 -122.140           2840       20809  \n",
      "18477 -122.314           4210        8325  \n",
      "16773 -122.084           2660       39292  \n",
      "19858 -121.982           6210       95832  \n",
      "13411 -122.362           2740       10761  \n",
      "1448  -122.220           4600       21750  \n",
      "1164  -122.211           3430       26788  \n",
      "18302 -122.189           4160       18969  \n",
      "14556 -122.372           4140       81021  \n",
      "4411  -122.233           3560       24345  \n",
      "8092  -122.210           3270       10454  \n",
      "9254  -122.240           4540       42730  \n",
      "3914  -122.214           3930       25449  \n",
      "7252  -122.323           3940        8800  \n",
      "12777 -121.986           4850      217800  \n",
      "\n",
      "[21613 rows x 21 columns]\n"
     ]
    }
   ],
   "source": [
    "sales = sales.sort_values(['sqft_living', 'price'] , axis = 0)\n",
    "print(sales)"
   ]
  },
  {
   "cell_type": "markdown",
   "metadata": {},
   "source": [
    "Let's start with a degree 1 polynomial using 'sqft_living' (i.e. a line) to predict 'price' and plot what it looks like."
   ]
  },
  {
   "cell_type": "code",
   "execution_count": 21,
   "metadata": {
    "scrolled": true
   },
   "outputs": [
    {
     "name": "stdout",
     "output_type": "stream",
     "text": [
      "       power_1\n",
      "19452      290\n",
      "15381      370\n",
      "860        380\n",
      "18379      384\n",
      "4868       390\n",
      "21332      390\n",
      "8623       410\n",
      "11500      420\n",
      "14466      420\n",
      "465        430\n",
      "1168       440\n",
      "18052      460\n",
      "12075      470\n",
      "15248      470\n",
      "17394      480\n",
      "8133       480\n",
      "4203       490\n",
      "4651       500\n",
      "2141       520\n",
      "3223       520\n",
      "18059      520\n",
      "2930       520\n",
      "6779       520\n",
      "9641       520\n",
      "12484      530\n",
      "3582       530\n",
      "7017       530\n",
      "14450      540\n",
      "12757      540\n",
      "18508      550\n",
      "...        ...\n",
      "12872     6980\n",
      "15482     7000\n",
      "7035      7050\n",
      "4149      7080\n",
      "7907      7100\n",
      "21050     7120\n",
      "6501      7220\n",
      "21506     7270\n",
      "18594     7320\n",
      "2713      7350\n",
      "1315      7390\n",
      "10373     7400\n",
      "11871     7420\n",
      "12370     7440\n",
      "4024      7480\n",
      "14032     7620\n",
      "18477     7710\n",
      "16773     7730\n",
      "19858     7850\n",
      "13411     7880\n",
      "1448      8000\n",
      "1164      8010\n",
      "18302     8020\n",
      "14556     8670\n",
      "4411      9200\n",
      "8092      9640\n",
      "9254      9890\n",
      "3914     10040\n",
      "7252     12050\n",
      "12777    13540\n",
      "\n",
      "[21613 rows x 1 columns]\n"
     ]
    }
   ],
   "source": [
    "poly1_data = polynomial_frame(sales['sqft_living'], 1)\n",
    "y = sales['price'] # add price to the data since it's the target\n",
    "\n",
    "print (poly1_data )\n"
   ]
  },
  {
   "cell_type": "code",
   "execution_count": 22,
   "metadata": {
    "scrolled": true
   },
   "outputs": [
    {
     "name": "stdout",
     "output_type": "stream",
     "text": [
      "y data             price\n",
      "19452   142000.0\n",
      "15381   276000.0\n",
      "860     245000.0\n",
      "18379   265000.0\n",
      "4868    228000.0\n",
      "21332   245000.0\n",
      "8623    325000.0\n",
      "11500   229050.0\n",
      "14466   280000.0\n",
      "465      80000.0\n",
      "1168    290000.0\n",
      "18052   247000.0\n",
      "12075   156000.0\n",
      "15248   192500.0\n",
      "17394   145000.0\n",
      "8133    170000.0\n",
      "4203    150000.0\n",
      "4651    125000.0\n",
      "2141     82500.0\n",
      "3223    262000.0\n",
      "18059   275000.0\n",
      "2930    295000.0\n",
      "6779    310000.0\n",
      "9641    330000.0\n",
      "12484   238000.0\n",
      "3582    355000.0\n",
      "7017    400000.0\n",
      "14450   345000.0\n",
      "12757   425000.0\n",
      "18508   115000.0\n",
      "...          ...\n",
      "12872  3100000.0\n",
      "15482  3200000.0\n",
      "7035   3800000.0\n",
      "4149   4000000.0\n",
      "7907   3200000.0\n",
      "21050   900000.0\n",
      "6501   1940000.0\n",
      "21506  2238890.0\n",
      "18594  1135250.0\n",
      "2713   1110000.0\n",
      "1315   5300000.0\n",
      "10373  2983000.0\n",
      "11871  1950000.0\n",
      "12370  4208000.0\n",
      "4024    800000.0\n",
      "14032  1680000.0\n",
      "18477  3300000.0\n",
      "16773  1920000.0\n",
      "19858  2700000.0\n",
      "13411  2415000.0\n",
      "1448   5350000.0\n",
      "1164   5110800.0\n",
      "18302  3300000.0\n",
      "14556  2888000.0\n",
      "4411   5570000.0\n",
      "8092   4668000.0\n",
      "9254   6885000.0\n",
      "3914   7062500.0\n",
      "7252   7700000.0\n",
      "12777  2280000.0\n",
      "\n",
      "[21613 rows x 1 columns]\n"
     ]
    }
   ],
   "source": [
    "# since y is price \n",
    "y = pd.DataFrame(y,columns=['price'])\n",
    "print ('y data ',  y)"
   ]
  },
  {
   "cell_type": "markdown",
   "metadata": {},
   "source": [
    "NOTE: for all the models in this notebook use validation_set = None to ensure that all results are consistent across users."
   ]
  },
  {
   "cell_type": "code",
   "execution_count": 23,
   "metadata": {},
   "outputs": [
    {
     "data": {
      "text/plain": [
       "LinearRegression(copy_X=True, fit_intercept=True, n_jobs=None,\n",
       "         normalize=False)"
      ]
     },
     "execution_count": 23,
     "metadata": {},
     "output_type": "execute_result"
    }
   ],
   "source": [
    "from sklearn.linear_model import LinearRegression\n",
    "\n",
    "model = LinearRegression()\n",
    "model.fit(poly1_data , y)"
   ]
  },
  {
   "cell_type": "code",
   "execution_count": 24,
   "metadata": {},
   "outputs": [
    {
     "data": {
      "text/plain": [
       "array([[280.6235679]])"
      ]
     },
     "execution_count": 24,
     "metadata": {},
     "output_type": "execute_result"
    }
   ],
   "source": [
    "#let's take a look at the weights before we plot\n",
    "model.coef_"
   ]
  },
  {
   "cell_type": "code",
   "execution_count": 29,
   "metadata": {},
   "outputs": [
    {
     "data": {
      "text/plain": [
       "array([-43580.74309447])"
      ]
     },
     "execution_count": 29,
     "metadata": {},
     "output_type": "execute_result"
    }
   ],
   "source": [
    "model.intercept_"
   ]
  },
  {
   "cell_type": "code",
   "execution_count": 34,
   "metadata": {},
   "outputs": [
    {
     "name": "stdout",
     "output_type": "stream",
     "text": [
      "[[  37800.09159579]\n",
      " [  60249.97702758]\n",
      " [  63056.21270656]\n",
      " ...\n",
      " [2773879.87859591]\n",
      " [3337933.25006978]\n",
      " [3756062.36623698]]\n"
     ]
    }
   ],
   "source": [
    "p1 = model.predict(poly1_data)\n",
    "print(p1)"
   ]
  },
  {
   "cell_type": "code",
   "execution_count": 35,
   "metadata": {},
   "outputs": [
    {
     "data": {
      "text/plain": [
       "[<matplotlib.lines.Line2D at 0x282ed2639e8>,\n",
       " <matplotlib.lines.Line2D at 0x282ed263dd8>]"
      ]
     },
     "execution_count": 35,
     "metadata": {},
     "output_type": "execute_result"
    },
    {
     "data": {
      "image/png": "[encoded data removed]",
      "text/plain": [
       "<Figure size 432x288 with 1 Axes>"
      ]
     },
     "metadata": {
      "needs_background": "light"
     },
     "output_type": "display_data"
    }
   ],
   "source": [
    "plt.plot(poly1_data['power_1'],y['price'],'+',\n",
    "                poly1_data['power_1'], model.predict(poly1_data),'*')"
   ]
  },
  {
   "cell_type": "markdown",
   "metadata": {},
   "source": [
    "Let's unpack that plt.plot() command. The first pair of Arrays we passed are the 1st power of sqft and the actual price we then ask it to print these as dots '.' or '+'. The next pair we pass is the 1st power of sqft and the predicted values from the linear model. We ask these to be plotted as a line '-' or '*'. \n",
    "\n",
    "We can see, not surprisingly, that the predicted values all fall on a line, specifically the one with slope 280 and intercept -43579. What if we wanted to plot a second degree polynomial?"
   ]
  },
  {
   "cell_type": "code",
   "execution_count": 36,
   "metadata": {},
   "outputs": [
    {
     "name": "stdout",
     "output_type": "stream",
     "text": [
      "Index(['power_1', 'power_2'], dtype='object')\n"
     ]
    },
    {
     "data": {
      "text/plain": [
       "LinearRegression(copy_X=True, fit_intercept=True, n_jobs=None,\n",
       "         normalize=False)"
      ]
     },
     "execution_count": 36,
     "metadata": {},
     "output_type": "execute_result"
    }
   ],
   "source": [
    "poly2_data = polynomial_frame(sales['sqft_living'], 2)\n",
    "my_features = poly2_data.columns # get the name of the features\n",
    "print (my_features)\n",
    "\n",
    "# add price to the data since it's the target\n",
    "model1 = LinearRegression()\n",
    "model1.fit(poly2_data , y)\n"
   ]
  },
  {
   "cell_type": "code",
   "execution_count": 37,
   "metadata": {},
   "outputs": [
    {
     "data": {
      "text/plain": [
       "array([[6.79940947e+01, 3.85812609e-02]])"
      ]
     },
     "execution_count": 37,
     "metadata": {},
     "output_type": "execute_result"
    }
   ],
   "source": [
    "model1.coef_"
   ]
  },
  {
   "cell_type": "code",
   "execution_count": 38,
   "metadata": {},
   "outputs": [
    {
     "data": {
      "text/plain": [
       "array([199222.27930548])"
      ]
     },
     "execution_count": 38,
     "metadata": {},
     "output_type": "execute_result"
    }
   ],
   "source": [
    "model1.intercept_"
   ]
  },
  {
   "cell_type": "code",
   "execution_count": 40,
   "metadata": {},
   "outputs": [
    {
     "name": "stdout",
     "output_type": "stream",
     "text": [
      "[[ 222185.25080918]\n",
      " [ 229661.86896153]\n",
      " [ 230631.16936542]\n",
      " ...\n",
      " [4770935.8224383 ]\n",
      " [6620646.66150335]\n",
      " [8193026.61898585]]\n"
     ]
    }
   ],
   "source": [
    "p2 = model1.predict(poly2_data)\n",
    "print(p2)"
   ]
  },
  {
   "cell_type": "code",
   "execution_count": 41,
   "metadata": {},
   "outputs": [
    {
     "data": {
      "text/plain": [
       "[<matplotlib.lines.Line2D at 0x282ee31c7b8>,\n",
       " <matplotlib.lines.Line2D at 0x282ee31cbe0>]"
      ]
     },
     "execution_count": 41,
     "metadata": {},
     "output_type": "execute_result"
    },
    {
     "data": {
      "image/png": "[encoded data removed]",
      "text/plain": [
       "<Figure size 432x288 with 1 Axes>"
      ]
     },
     "metadata": {
      "needs_background": "light"
     },
     "output_type": "display_data"
    }
   ],
   "source": [
    "plt.plot(poly2_data['power_1'],y['price'],'.',\n",
    "        poly2_data['power_1'], model1.predict(poly2_data),'-')"
   ]
  },
  {
   "cell_type": "markdown",
   "metadata": {},
   "source": [
    "The resulting model looks like half a parabola. Try on your own to see what the cubic looks like:"
   ]
  },
  {
   "cell_type": "code",
   "execution_count": 42,
   "metadata": {},
   "outputs": [
    {
     "name": "stdout",
     "output_type": "stream",
     "text": [
      "Index(['power_1', 'power_2', 'power_3'], dtype='object')\n"
     ]
    },
    {
     "data": {
      "text/plain": [
       "LinearRegression(copy_X=True, fit_intercept=True, n_jobs=None,\n",
       "         normalize=False)"
      ]
     },
     "execution_count": 42,
     "metadata": {},
     "output_type": "execute_result"
    }
   ],
   "source": [
    "poly3_data = polynomial_frame(sales['sqft_living'], 3)\n",
    "my_features3 = poly3_data.columns # get the name of the features\n",
    "print (my_features3)\n",
    "model2 = LinearRegression()\n",
    "model2.fit(poly3_data , y)\n"
   ]
  },
  {
   "cell_type": "code",
   "execution_count": 43,
   "metadata": {},
   "outputs": [
    {
     "data": {
      "text/plain": [
       "array([[-9.01819864e+01,  8.70465089e-02, -3.84055260e-06]])"
      ]
     },
     "execution_count": 43,
     "metadata": {},
     "output_type": "execute_result"
    }
   ],
   "source": [
    "model2.coef_"
   ]
  },
  {
   "cell_type": "code",
   "execution_count": 44,
   "metadata": {},
   "outputs": [
    {
     "data": {
      "text/plain": [
       "array([336819.74822146])"
      ]
     },
     "execution_count": 44,
     "metadata": {},
     "output_type": "execute_result"
    }
   ],
   "source": [
    "model2.intercept_"
   ]
  },
  {
   "cell_type": "code",
   "execution_count": 45,
   "metadata": {},
   "outputs": [
    {
     "name": "stdout",
     "output_type": "stream",
     "text": [
      "[[ 317893.91631044]\n",
      " [ 315174.54478916]\n",
      " [ 314909.37044974]\n",
      " ...\n",
      " [4318996.1477674 ]\n",
      " [5169720.55468118]\n",
      " [5540689.79210763]]\n"
     ]
    }
   ],
   "source": [
    "p3 = model2.predict(poly3_data)\n",
    "print(p3)"
   ]
  },
  {
   "cell_type": "code",
   "execution_count": 46,
   "metadata": {},
   "outputs": [
    {
     "data": {
      "text/plain": [
       "[<matplotlib.lines.Line2D at 0x282ee2d5588>,\n",
       " <matplotlib.lines.Line2D at 0x282ee2d59b0>]"
      ]
     },
     "execution_count": 46,
     "metadata": {},
     "output_type": "execute_result"
    },
    {
     "data": {
      "image/png": "[encoded data removed]",
      "text/plain": [
       "<Figure size 432x288 with 1 Axes>"
      ]
     },
     "metadata": {
      "needs_background": "light"
     },
     "output_type": "display_data"
    }
   ],
   "source": [
    "#model3.get('coefficients')\n",
    "plt.plot(poly3_data['power_1'],y['price'],'.',\n",
    "       poly3_data['power_1'], model2.predict(poly3_data),'-')"
   ]
  },
  {
   "cell_type": "markdown",
   "metadata": {},
   "source": [
    "Now try a 15th degree polynomial:"
   ]
  },
  {
   "cell_type": "code",
   "execution_count": 47,
   "metadata": {},
   "outputs": [
    {
     "name": "stdout",
     "output_type": "stream",
     "text": [
      "Index(['power_1', 'power_2', 'power_3', 'power_4', 'power_5', 'power_6',\n",
      "       'power_7', 'power_8', 'power_9', 'power_10', 'power_11', 'power_12',\n",
      "       'power_13', 'power_14', 'power_15'],\n",
      "      dtype='object')\n"
     ]
    },
    {
     "data": {
      "text/plain": [
       "LinearRegression(copy_X=True, fit_intercept=True, n_jobs=None,\n",
       "         normalize=False)"
      ]
     },
     "execution_count": 47,
     "metadata": {},
     "output_type": "execute_result"
    }
   ],
   "source": [
    "poly15_data=polynomial_frame(sales['sqft_living'],15)\n",
    "#print poly15_data\n",
    "my_features15=poly15_data.columns\n",
    "print (my_features15)\n",
    "model15 = LinearRegression()\n",
    "model15.fit(poly15_data , y)"
   ]
  },
  {
   "cell_type": "code",
   "execution_count": 48,
   "metadata": {},
   "outputs": [
    {
     "data": {
      "text/plain": [
       "array([[ 1.71289488e-05,  4.21890991e-02,  4.60100653e-06,\n",
       "        -4.52583777e-10, -2.28420214e-14, -2.19109097e-16,\n",
       "        -5.24796523e-16,  3.49221476e-16, -2.01148770e-16,\n",
       "        -2.67950411e-16,  1.00544363e-16,  7.25571766e-16,\n",
       "         4.19356250e-16, -4.03452461e-16,  4.79205036e-17]])"
      ]
     },
     "execution_count": 48,
     "metadata": {},
     "output_type": "execute_result"
    }
   ],
   "source": [
    "model15.coef_"
   ]
  },
  {
   "cell_type": "code",
   "execution_count": 49,
   "metadata": {},
   "outputs": [
    {
     "data": {
      "text/plain": [
       "array([279926.67310561])"
      ]
     },
     "execution_count": 49,
     "metadata": {},
     "output_type": "execute_result"
    }
   ],
   "source": [
    "model15.intercept_"
   ]
  },
  {
   "cell_type": "code",
   "execution_count": 50,
   "metadata": {},
   "outputs": [
    {
     "name": "stdout",
     "output_type": "stream",
     "text": [
      "[[ 289983.35114851]\n",
      " [ 286490.0913175 ]\n",
      " [ 276185.76890585]\n",
      " ...\n",
      " [4783691.98592392]\n",
      " [5020595.26267293]\n",
      " [4358827.89595902]]\n"
     ]
    }
   ],
   "source": [
    "p15 = model15.predict(poly15_data)\n",
    "print(p15)"
   ]
  },
  {
   "cell_type": "code",
   "execution_count": 51,
   "metadata": {},
   "outputs": [
    {
     "data": {
      "text/plain": [
       "[<matplotlib.lines.Line2D at 0x282ed136f60>,\n",
       " <matplotlib.lines.Line2D at 0x282ed136ac8>]"
      ]
     },
     "execution_count": 51,
     "metadata": {},
     "output_type": "execute_result"
    },
    {
     "data": {
      "image/png": "[encoded data removed]",
      "text/plain": [
       "<Figure size 432x288 with 1 Axes>"
      ]
     },
     "metadata": {
      "needs_background": "light"
     },
     "output_type": "display_data"
    }
   ],
   "source": [
    "#model15.get('coefficients')\n",
    "plt.plot(poly15_data['power_1'],y['price'],'+',\n",
    "        poly15_data['power_1'],model15.predict(poly15_data),'-')"
   ]
  },
  {
   "cell_type": "markdown",
   "metadata": {},
   "source": [
    "What do you think of the 15th degree polynomial? Do you think this is appropriate? If we were to change the data do you think you'd get pretty much the same curve? Let's take a look."
   ]
  },
  {
   "cell_type": "markdown",
   "metadata": {},
   "source": [
    "# Changing the data and re-learning"
   ]
  },
  {
   "cell_type": "markdown",
   "metadata": {},
   "source": [
    "We're going to split the sales data into four subsets of roughly equal size. Then you will estimate a 15th degree polynomial model on all four subsets of the data. Print the coefficients (you should use .print_rows(num_rows = 16) to view all of them) and plot the resulting fit (as we did above). The quiz will ask you some questions about these results.\n",
    "\n",
    "To split the sales data into four subsets, we perform the following steps:\n",
    "* First split sales into 2 subsets with `.random_split(0.5, seed=0)`. \n",
    "* Next split the resulting subsets into 2 more subsets each. Use `.random_split(0.5, seed=0)`.\n",
    "\n",
    "We set `seed=0` in these steps so that different users get consistent results.\n",
    "You should end up with 4 subsets (`set_1`, `set_2`, `set_3`, `set_4`) of approximately equal size. "
   ]
  },
  {
   "cell_type": "code",
   "execution_count": 53,
   "metadata": {},
   "outputs": [
    {
     "name": "stdout",
     "output_type": "stream",
     "text": [
      "(21613, 18) (21613, 1)\n",
      "       bedrooms  bathrooms  sqft_living  sqft_lot  floors  waterfront  view  \\\n",
      "19452         0       0.00          290     20875     1.0           0     0   \n",
      "15381         1       0.75          370      1801     1.0           0     0   \n",
      "860           1       0.75          380     15000     1.0           0     0   \n",
      "18379         0       0.75          384    213444     1.0           0     0   \n",
      "4868          0       1.00          390      5900     1.0           0     0   \n",
      "21332         1       1.00          390      2000     1.0           0     0   \n",
      "8623          1       0.75          410      8636     1.0           0     0   \n",
      "11500         1       1.00          420      3298     1.0           0     0   \n",
      "14466         1       0.75          420      6720     1.0           0     0   \n",
      "465           1       0.75          430      5050     1.0           0     0   \n",
      "1168          2       0.75          440      8313     1.0           1     3   \n",
      "18052         1       1.00          460      4120     1.0           0     0   \n",
      "12075         1       0.75          470     15000     1.0           0     0   \n",
      "15248         1       1.00          470     63737     1.0           0     2   \n",
      "17394         1       0.75          480      9750     1.0           0     0   \n",
      "8133          1       1.00          480      4560     1.0           0     0   \n",
      "4203          3       0.75          490     38500     1.5           0     0   \n",
      "4651          1       1.00          500      7440     1.0           0     0   \n",
      "2141          2       1.00          520     22334     1.0           0     0   \n",
      "3223          1       0.75          520     12981     1.0           0     0   \n",
      "18059         1       1.00          520      4800     1.0           0     0   \n",
      "2930          1       1.00          520      5600     1.0           0     0   \n",
      "6779          1       0.75          520      2885     1.0           0     0   \n",
      "9641          2       0.75          520      6862     1.0           0     0   \n",
      "12484         1       1.00          530      6350     1.0           0     0   \n",
      "3582          1       0.75          530     33278     1.0           0     2   \n",
      "7017          1       1.00          530     13679     1.0           0     0   \n",
      "14450         1       1.00          540     10125     1.0           0     0   \n",
      "12757         2       1.00          540      2500     1.0           0     0   \n",
      "18508         2       0.75          550      7980     1.0           0     0   \n",
      "...         ...        ...          ...       ...     ...         ...   ...   \n",
      "12872         6       4.25         6980     15682     3.0           0     4   \n",
      "15482         4       3.25         7000     28206     1.0           1     4   \n",
      "7035          5       5.50         7050     42840     1.0           0     2   \n",
      "4149          4       5.50         7080     16573     2.0           0     0   \n",
      "7907          6       5.00         7100     18200     2.5           0     0   \n",
      "21050         5       6.00         7120     40806     2.0           0     4   \n",
      "6501          4       5.75         7220    223462     2.0           0     4   \n",
      "21506         5       6.50         7270    130017     2.0           0     0   \n",
      "18594         5       4.00         7320    217800     2.0           0     0   \n",
      "2713          5       3.50         7350     12231     2.0           0     4   \n",
      "1315          6       6.00         7390     24829     2.0           1     4   \n",
      "10373         5       5.50         7400     18898     2.0           0     3   \n",
      "11871         4       3.25         7420    167869     2.0           0     3   \n",
      "12370         5       6.00         7440     21540     2.0           0     0   \n",
      "4024          7       6.75         7480     41664     2.0           0     2   \n",
      "14032         4       3.75         7620     29536     2.0           0     3   \n",
      "18477         8       4.00         7710     11750     3.5           0     0   \n",
      "16773         5       5.75         7730    230868     2.0           0     0   \n",
      "19858         4       4.00         7850     89651     2.0           0     0   \n",
      "13411         5       4.75         7880     24250     2.0           0     2   \n",
      "1448          5       5.00         8000     23985     2.0           0     4   \n",
      "1164          5       5.25         8010     45517     2.0           1     4   \n",
      "18302         5       6.25         8020     21738     2.0           0     0   \n",
      "14556         5       6.25         8670     64033     2.0           0     4   \n",
      "4411          5       5.75         9200     35069     2.0           0     0   \n",
      "8092          5       6.75         9640     13068     1.0           1     4   \n",
      "9254          6       7.75         9890     31374     2.0           0     4   \n",
      "3914          5       4.50        10040     37325     2.0           1     2   \n",
      "7252          6       8.00        12050     27600     2.5           0     3   \n",
      "12777         7       8.00        13540    307752     3.0           0     4   \n",
      "\n",
      "       condition  grade  sqft_above  sqft_basement  yr_built  yr_renovated  \\\n",
      "19452          1      1         290              0      1963             0   \n",
      "15381          5      5         370              0      1923             0   \n",
      "860            3      5         380              0      1963             0   \n",
      "18379          3      4         384              0      2003             0   \n",
      "4868           2      4         390              0      1953             0   \n",
      "21332          4      6         390              0      1920             0   \n",
      "8623           2      4         410              0      1953             0   \n",
      "11500          4      4         420              0      1949             0   \n",
      "14466          3      5         420              0      1922             0   \n",
      "465            2      4         430              0      1912             0   \n",
      "1168           4      5         440              0      1943             0   \n",
      "18052          3      4         460              0      1937             0   \n",
      "12075          3      4         470              0      1947             0   \n",
      "15248          5      5         470              0      1924             0   \n",
      "17394          2      4         480              0      1948             0   \n",
      "8133           3      5         480              0      1922             0   \n",
      "4203           4      5         490              0      1959             0   \n",
      "4651           1      5         500              0      1928             0   \n",
      "2141           2      5         520              0      1951             0   \n",
      "3223           5      3         520              0      1920             0   \n",
      "18059          3      5         520              0      1930             0   \n",
      "2930           3      6         520              0      1918             0   \n",
      "6779           4      6         520              0      1947             0   \n",
      "9641           4      4         520              0      1924          1980   \n",
      "12484          5      5         530              0      1941             0   \n",
      "3582           4      4         530              0      1950             0   \n",
      "7017           4      6         530              0      1949             0   \n",
      "14450          3      5         540              0      1961             0   \n",
      "12757          3      5         540              0      1905             0   \n",
      "18508          3      5         550              0      1952             0   \n",
      "...          ...    ...         ...            ...       ...           ...   \n",
      "12872          4     12        5330           1650      1999             0   \n",
      "15482          4     12        3500           3500      1991             0   \n",
      "7035           4     13        4320           2730      1978             0   \n",
      "4149           3     12        5760           1320      2008             0   \n",
      "7907           3     13        5240           1860      1933          2002   \n",
      "21050          3     12        5480           1640      2007             0   \n",
      "6501           3     12        6220           1000      2000             0   \n",
      "21506          3     12        6420            850      2010             0   \n",
      "18594          3     11        7320              0      1992             0   \n",
      "2713           3     11        4750           2600      2001             0   \n",
      "1315           4     12        5000           2390      1991             0   \n",
      "10373          3     13        6290           1110      2001             0   \n",
      "11871          3     12        7420              0      2002             0   \n",
      "12370          3     12        5550           1890      2003             0   \n",
      "4024           3     11        5080           2400      1953             0   \n",
      "14032          3     11        5980           1640      2005             0   \n",
      "18477          5     12        6090           1620      1904             0   \n",
      "16773          3     12        6660           1070      2004             0   \n",
      "19858          3     12        7850              0      2006             0   \n",
      "13411          3     13        7880              0      1996             0   \n",
      "1448           3     12        6720           1280      2009             0   \n",
      "1164           3     12        5990           2020      1999             0   \n",
      "18302          3     11        8020              0      2001             0   \n",
      "14556          3     13        6120           2550      1965          2003   \n",
      "4411           3     13        6200           3000      2001             0   \n",
      "8092           3     12        4820           4820      1983          2009   \n",
      "9254           3     13        8860           1030      2001             0   \n",
      "3914           3     11        7680           2360      1940          2001   \n",
      "7252           4     13        8570           3480      1910          1987   \n",
      "12777          3     12        9410           4130      1999             0   \n",
      "\n",
      "       zipcode      lat     long  sqft_living15  sqft_lot15  \n",
      "19452    98024  47.5308 -121.888           1620       22850  \n",
      "15381    98117  47.6778 -122.389           1340        5000  \n",
      "860      98168  47.4810 -122.323           1170       15000  \n",
      "18379    98070  47.4177 -122.491           1920      224341  \n",
      "4868     98118  47.5260 -122.261           2170        6000  \n",
      "21332    98103  47.6938 -122.347           1340        5100  \n",
      "8623     98146  47.5077 -122.357           1190        8636  \n",
      "11500    98136  47.5375 -122.391           1460        4975  \n",
      "14466    98108  47.5520 -122.311           1420        6720  \n",
      "465      98014  47.6499 -121.909           1200        7500  \n",
      "1168     98070  47.4339 -122.512            880       26289  \n",
      "18052    98055  47.4868 -122.199            990        4120  \n",
      "12075    98014  47.6554 -121.908           1730       22500  \n",
      "15248    98022  47.2163 -121.984           1350       46762  \n",
      "17394    98146  47.4982 -122.362           1550        9924  \n",
      "8133     98065  47.5253 -121.826            890        4803  \n",
      "4203     98014  47.7112 -121.315            800       18297  \n",
      "4651     98106  47.5252 -122.362           1350        7440  \n",
      "2141     98168  47.4799 -122.296           1572       10570  \n",
      "3223     98022  47.2082 -121.995           1340       12233  \n",
      "18059    98106  47.5533 -122.363            800        4960  \n",
      "2930     98116  47.5579 -122.395           1030        5265  \n",
      "6779     98117  47.6886 -122.378            980        4241  \n",
      "9641     98010  47.3260 -122.037           1170        8756  \n",
      "12484    98103  47.6946 -122.357           1200        6350  \n",
      "3582     98074  47.6412 -122.079           2830       14311  \n",
      "7017     98053  47.6422 -121.954           1930       20624  \n",
      "14450    98177  47.7739 -122.358           1840       10125  \n",
      "12757    98107  47.6729 -122.383           1290        5000  \n",
      "18508    98146  47.5110 -122.348           1330        7980  \n",
      "...        ...      ...      ...            ...         ...  \n",
      "12872    98040  47.5552 -122.231           3930       18367  \n",
      "15482    98075  47.5928 -122.086           4913       14663  \n",
      "7035     98004  47.6229 -122.220           5070       20570  \n",
      "4149     98039  47.6151 -122.224           3140       15996  \n",
      "7907     98199  47.6427 -122.408           3130        6477  \n",
      "21050    98006  47.5451 -122.114           3440       36859  \n",
      "6501     98053  47.7097 -122.013           2680        7593  \n",
      "21506    98027  47.5371 -121.982           1800       44890  \n",
      "18594    98058  47.4473 -122.086           3270       34500  \n",
      "2713     98065  47.5373 -121.865           5380       12587  \n",
      "1315     98040  47.5631 -122.210           4320       24619  \n",
      "10373    98006  47.5431 -122.112           6110       26442  \n",
      "11871    98045  47.4548 -121.764           5610      169549  \n",
      "12370    98006  47.5692 -122.189           4740       19329  \n",
      "4024     98166  47.4643 -122.368           2810       33190  \n",
      "14032    98006  47.5571 -122.140           2840       20809  \n",
      "18477    98112  47.6263 -122.314           4210        8325  \n",
      "16773    98077  47.7615 -122.084           2660       39292  \n",
      "19858    98027  47.5406 -121.982           6210       95832  \n",
      "13411    98177  47.7334 -122.362           2740       10761  \n",
      "1448     98004  47.6232 -122.220           4600       21750  \n",
      "1164     98033  47.6767 -122.211           3430       26788  \n",
      "18302    98006  47.5675 -122.189           4160       18969  \n",
      "14556    98177  47.7295 -122.372           4140       81021  \n",
      "4411     98039  47.6289 -122.233           3560       24345  \n",
      "8092     98040  47.5570 -122.210           3270       10454  \n",
      "9254     98039  47.6305 -122.240           4540       42730  \n",
      "3914     98004  47.6500 -122.214           3930       25449  \n",
      "7252     98102  47.6298 -122.323           3940        8800  \n",
      "12777    98053  47.6675 -121.986           4850      217800  \n",
      "\n",
      "[21613 rows x 18 columns]            price\n",
      "19452   142000.0\n",
      "15381   276000.0\n",
      "860     245000.0\n",
      "18379   265000.0\n",
      "4868    228000.0\n",
      "21332   245000.0\n",
      "8623    325000.0\n",
      "11500   229050.0\n",
      "14466   280000.0\n",
      "465      80000.0\n",
      "1168    290000.0\n",
      "18052   247000.0\n",
      "12075   156000.0\n",
      "15248   192500.0\n",
      "17394   145000.0\n",
      "8133    170000.0\n",
      "4203    150000.0\n",
      "4651    125000.0\n",
      "2141     82500.0\n",
      "3223    262000.0\n",
      "18059   275000.0\n",
      "2930    295000.0\n",
      "6779    310000.0\n",
      "9641    330000.0\n",
      "12484   238000.0\n",
      "3582    355000.0\n",
      "7017    400000.0\n",
      "14450   345000.0\n",
      "12757   425000.0\n",
      "18508   115000.0\n",
      "...          ...\n",
      "12872  3100000.0\n",
      "15482  3200000.0\n",
      "7035   3800000.0\n",
      "4149   4000000.0\n",
      "7907   3200000.0\n",
      "21050   900000.0\n",
      "6501   1940000.0\n",
      "21506  2238890.0\n",
      "18594  1135250.0\n",
      "2713   1110000.0\n",
      "1315   5300000.0\n",
      "10373  2983000.0\n",
      "11871  1950000.0\n",
      "12370  4208000.0\n",
      "4024    800000.0\n",
      "14032  1680000.0\n",
      "18477  3300000.0\n",
      "16773  1920000.0\n",
      "19858  2700000.0\n",
      "13411  2415000.0\n",
      "1448   5350000.0\n",
      "1164   5110800.0\n",
      "18302  3300000.0\n",
      "14556  2888000.0\n",
      "4411   5570000.0\n",
      "8092   4668000.0\n",
      "9254   6885000.0\n",
      "3914   7062500.0\n",
      "7252   7700000.0\n",
      "12777  2280000.0\n",
      "\n",
      "[21613 rows x 1 columns]\n"
     ]
    }
   ],
   "source": [
    "# remove id date ,and price from input data \n",
    "x = pd.DataFrame(sales.drop(['id','price','date'] ,axis =1))\n",
    "print(x.shape ,y.shape )\n",
    "print(x ,y)"
   ]
  },
  {
   "cell_type": "code",
   "execution_count": 54,
   "metadata": {},
   "outputs": [],
   "source": [
    "from sklearn.model_selection import train_test_split\n",
    "x_train1,x_test1 ,y_train1 , y_test1 = train_test_split(x , y , test_size=.5,random_state=40)\n",
    "x_train2,x_test2 ,y_train2 , y_test2=train_test_split(x_train1 , y_train1 , test_size=.5,random_state=40)\n",
    "x_train3,x_test3 ,y_train3 , y_test3=train_test_split(x_test1 , y_test1 , test_size=.5,random_state=40)\n"
   ]
  },
  {
   "cell_type": "markdown",
   "metadata": {},
   "source": [
    "Fit a 15th degree polynomial on set_1, set_2, set_3, and set_4 using sqft_living to predict prices. Print the coefficients and make a plot of the resulting model."
   ]
  },
  {
   "cell_type": "code",
   "execution_count": 55,
   "metadata": {},
   "outputs": [
    {
     "name": "stdout",
     "output_type": "stream",
     "text": [
      "Index(['power_1', 'power_2', 'power_3', 'power_4', 'power_5', 'power_6',\n",
      "       'power_7', 'power_8', 'power_9', 'power_10', 'power_11', 'power_12',\n",
      "       'power_13', 'power_14', 'power_15'],\n",
      "      dtype='object')\n"
     ]
    },
    {
     "data": {
      "text/plain": [
       "LinearRegression(copy_X=True, fit_intercept=True, n_jobs=None,\n",
       "         normalize=False)"
      ]
     },
     "execution_count": 55,
     "metadata": {},
     "output_type": "execute_result"
    }
   ],
   "source": [
    "poly15_set1_data=polynomial_frame(x_train1['sqft_living'],15)\n",
    "my_features_set1=poly15_set1_data.columns\n",
    "print(my_features_set1)\n",
    "from sklearn.linear_model import LinearRegression\n",
    "\n",
    "model15_set1 = LinearRegression()\n",
    "model15_set1 .fit(poly15_set1_data , y_train1)"
   ]
  },
  {
   "cell_type": "code",
   "execution_count": 56,
   "metadata": {},
   "outputs": [
    {
     "data": {
      "text/plain": [
       "array([[ 2.22499935e-05,  4.67549638e-02,  4.68906745e-06,\n",
       "        -6.19287723e-10, -3.46986340e-14,  3.96535877e-16,\n",
       "        -7.43370696e-16,  8.81370570e-16,  2.38597972e-16,\n",
       "        -3.67064736e-16,  5.12438296e-16,  6.07492603e-16,\n",
       "         3.79499453e-16,  2.07545872e-16, -6.50991087e-16]])"
      ]
     },
     "execution_count": 56,
     "metadata": {},
     "output_type": "execute_result"
    }
   ],
   "source": [
    "model15_set1.coef_"
   ]
  },
  {
   "cell_type": "code",
   "execution_count": 58,
   "metadata": {},
   "outputs": [
    {
     "data": {
      "text/plain": [
       "array([267304.27008295])"
      ]
     },
     "execution_count": 58,
     "metadata": {},
     "output_type": "execute_result"
    }
   ],
   "source": [
    "model15_set1.intercept_"
   ]
  },
  {
   "cell_type": "code",
   "execution_count": 60,
   "metadata": {},
   "outputs": [
    {
     "data": {
      "text/plain": [
       "[<matplotlib.lines.Line2D at 0x282ee62fd68>,\n",
       " <matplotlib.lines.Line2D at 0x282ee62fe48>]"
      ]
     },
     "execution_count": 60,
     "metadata": {},
     "output_type": "execute_result"
    },
    {
     "data": {
      "image/png": "[encoded data removed]",
      "text/plain": [
       "<Figure size 432x288 with 1 Axes>"
      ]
     },
     "metadata": {
      "needs_background": "light"
     },
     "output_type": "display_data"
    }
   ],
   "source": [
    "plt.plot(poly15_set1_data['power_1'],y_train1['price'],'*',\n",
    "        poly15_set1_data['power_1'],model15_set1.predict(poly15_set1_data),'-')"
   ]
  },
  {
   "cell_type": "code",
   "execution_count": 61,
   "metadata": {},
   "outputs": [
    {
     "name": "stdout",
     "output_type": "stream",
     "text": [
      "Index(['power_1', 'power_2', 'power_3', 'power_4', 'power_5', 'power_6',\n",
      "       'power_7', 'power_8', 'power_9', 'power_10', 'power_11', 'power_12',\n",
      "       'power_13', 'power_14', 'power_15'],\n",
      "      dtype='object')\n"
     ]
    },
    {
     "data": {
      "text/plain": [
       "LinearRegression(copy_X=True, fit_intercept=True, n_jobs=None,\n",
       "         normalize=False)"
      ]
     },
     "execution_count": 61,
     "metadata": {},
     "output_type": "execute_result"
    }
   ],
   "source": [
    "poly15_set2_data=polynomial_frame(x_train2['sqft_living'],15)\n",
    "my_features_set2=poly15_set2_data.columns\n",
    "print(my_features_set2)\n",
    "\n",
    "model15_set2 = LinearRegression()\n",
    "model15_set2.fit(poly15_set2_data , y_train2)"
   ]
  },
  {
   "cell_type": "code",
   "execution_count": 62,
   "metadata": {},
   "outputs": [
    {
     "data": {
      "text/plain": [
       "array([[ 2.15246769e-05,  4.58301094e-02,  4.32642921e-06,\n",
       "        -4.71373019e-10, -3.60803933e-14,  5.47880224e-16,\n",
       "        -1.08993906e-15,  5.55643429e-16,  4.63159757e-16,\n",
       "        -3.21078088e-16,  7.41949248e-16,  1.37829640e-15,\n",
       "        -1.48054907e-17,  9.15245222e-16,  1.33841540e-16]])"
      ]
     },
     "execution_count": 62,
     "metadata": {},
     "output_type": "execute_result"
    }
   ],
   "source": [
    "model15_set2.coef_"
   ]
  },
  {
   "cell_type": "code",
   "execution_count": 63,
   "metadata": {},
   "outputs": [
    {
     "data": {
      "text/plain": [
       "array([268285.52841473])"
      ]
     },
     "execution_count": 63,
     "metadata": {},
     "output_type": "execute_result"
    }
   ],
   "source": [
    "model15_set2.intercept_"
   ]
  },
  {
   "cell_type": "code",
   "execution_count": 64,
   "metadata": {},
   "outputs": [
    {
     "name": "stdout",
     "output_type": "stream",
     "text": [
      "[[ 630724.92254562]\n",
      " [ 545298.61231609]\n",
      " [ 299875.90725853]\n",
      " ...\n",
      " [ 924090.90001668]\n",
      " [ 544721.68715228]\n",
      " [1235826.25655191]]\n"
     ]
    }
   ],
   "source": [
    "\n",
    "p15_2 = model15_set2.predict(poly15_set2_data)\n",
    "print(p15_2)"
   ]
  },
  {
   "cell_type": "code",
   "execution_count": 67,
   "metadata": {},
   "outputs": [
    {
     "data": {
      "text/plain": [
       "[<matplotlib.lines.Line2D at 0x282ef9b52b0>]"
      ]
     },
     "execution_count": 67,
     "metadata": {},
     "output_type": "execute_result"
    },
    {
     "data": {
      "image/png": "[encoded data removed]",
      "text/plain": [
       "<Figure size 432x288 with 1 Axes>"
      ]
     },
     "metadata": {
      "needs_background": "light"
     },
     "output_type": "display_data"
    }
   ],
   "source": [
    "plt.plot(poly15_set2_data['power_1'],y_train2['price'],'+')\n",
    "plt.plot(poly15_set2_data['power_1'],model15_set2.predict(poly15_set2_data),'-')"
   ]
  },
  {
   "cell_type": "code",
   "execution_count": 68,
   "metadata": {},
   "outputs": [
    {
     "name": "stdout",
     "output_type": "stream",
     "text": [
      "Index(['power_1', 'power_2', 'power_3', 'power_4', 'power_5', 'power_6',\n",
      "       'power_7', 'power_8', 'power_9', 'power_10', 'power_11', 'power_12',\n",
      "       'power_13', 'power_14', 'power_15'],\n",
      "      dtype='object')\n"
     ]
    },
    {
     "data": {
      "text/plain": [
       "LinearRegression(copy_X=True, fit_intercept=True, n_jobs=None,\n",
       "         normalize=False)"
      ]
     },
     "execution_count": 68,
     "metadata": {},
     "output_type": "execute_result"
    }
   ],
   "source": [
    "poly15_set3_data=polynomial_frame(x_train3['sqft_living'],15)\n",
    "my_features_set3=poly15_set3_data.columns\n",
    "print(my_features_set1)\n",
    "\n",
    "model15_set3 =LinearRegression()\n",
    "model15_set3.fit(poly15_set3_data , y_train3)\n"
   ]
  },
  {
   "cell_type": "code",
   "execution_count": 69,
   "metadata": {},
   "outputs": [
    {
     "data": {
      "text/plain": [
       "array([[ 2.11309354e-05,  5.01238480e-02,  4.33534337e-08,\n",
       "         3.25010168e-11,  1.85362360e-14, -2.19526373e-16,\n",
       "        -4.70870206e-16, -3.20976881e-16, -9.42381361e-17,\n",
       "         7.05567899e-18, -5.10365429e-16,  7.43889531e-16,\n",
       "         3.45372215e-16, -5.19557413e-16,  2.79173651e-16]])"
      ]
     },
     "execution_count": 69,
     "metadata": {},
     "output_type": "execute_result"
    }
   ],
   "source": [
    "model15_set3.coef_"
   ]
  },
  {
   "cell_type": "code",
   "execution_count": 70,
   "metadata": {},
   "outputs": [
    {
     "data": {
      "text/plain": [
       "array([274201.75019299])"
      ]
     },
     "execution_count": 70,
     "metadata": {},
     "output_type": "execute_result"
    }
   ],
   "source": [
    "model15_set3.intercept_"
   ]
  },
  {
   "cell_type": "code",
   "execution_count": 72,
   "metadata": {},
   "outputs": [
    {
     "name": "stdout",
     "output_type": "stream",
     "text": [
      "[[366860.51051634]\n",
      " [398427.12276434]\n",
      " [343359.01546921]\n",
      " ...\n",
      " [366336.80976635]\n",
      " [415632.15626027]\n",
      " [550590.01815168]]\n"
     ]
    }
   ],
   "source": [
    "p15_3 = model15_set3.predict(poly15_set3_data)\n",
    "print(p15_3)"
   ]
  },
  {
   "cell_type": "code",
   "execution_count": 73,
   "metadata": {
    "scrolled": true
   },
   "outputs": [
    {
     "data": {
      "text/plain": [
       "[<matplotlib.lines.Line2D at 0x282efa230b8>,\n",
       " <matplotlib.lines.Line2D at 0x282efa23438>]"
      ]
     },
     "execution_count": 73,
     "metadata": {},
     "output_type": "execute_result"
    },
    {
     "data": {
      "image/png": "[encoded data removed]",
      "text/plain": [
       "<Figure size 432x288 with 1 Axes>"
      ]
     },
     "metadata": {
      "needs_background": "light"
     },
     "output_type": "display_data"
    }
   ],
   "source": [
    "plt.plot(poly15_set3_data['power_1'],y_train3['price'],'*',\n",
    "        poly15_set3_data['power_1'],model15_set3.predict(poly15_set3_data),'-')"
   ]
  },
  {
   "cell_type": "markdown",
   "metadata": {},
   "source": [
    "Some questions you will be asked on your quiz:\n",
    "\n",
    "**Quiz Question: Is the sign (positive or negative) for power_15 the same in all four models?**\n",
    "\n",
    "**Quiz Question: (True/False) the plotted fitted lines look the same in all four plots**"
   ]
  },
  {
   "cell_type": "markdown",
   "metadata": {},
   "source": [
    "# Selecting a Polynomial Degree"
   ]
  },
  {
   "cell_type": "markdown",
   "metadata": {},
   "source": [
    "Whenever we have a \"magic\" parameter like the degree of the polynomial there is one well-known way to select these parameters: validation set. (We will explore another approach in week 4).\n",
    "\n",
    "We split the sales dataset 3-way into training set, test set, and validation set as follows:\n",
    "\n",
    "* Split our sales data into 2 sets: `training_and_validation` and `testing`. Use `random_split(0.9, seed=1)`.\n",
    "* Further split our training data into two sets: `training` and `validation`. Use `random_split(0.5, seed=1)`.\n",
    "\n",
    "Again, we set `seed=1` to obtain consistent results for different users."
   ]
  },
  {
   "cell_type": "code",
   "execution_count": 74,
   "metadata": {},
   "outputs": [],
   "source": [
    "\n",
    "x_training_and_validation, x_testing , y_training_and_validation,y_testing = train_test_split(x, y , test_size = 0.9, random_state =40)\n",
    "x_training, x_validation , y_training ,y_validation = train_test_split(x_training_and_validation, y_training_and_validation, test_size =0.5, random_state=40)\n"
   ]
  },
  {
   "cell_type": "markdown",
   "metadata": {},
   "source": [
    "Next you should write a loop that does the following:\n",
    "* For degree in [1, 2, 3, 4, 5, 6, 7, 8, 9, 10, 11, 12, 13, 14, 15] (to get this in python type range(1, 15+1))\n",
    "    * Build an SFrame of polynomial data of train_data['sqft_living'] at the current degree\n",
    "    * hint: my_features = poly_data.column_names() gives you a list e.g. ['power_1', 'power_2', 'power_3'] which you might find useful for graphlab.linear_regression.create( features = my_features)\n",
    "    * Add train_data['price'] to the polynomial SFrame\n",
    "    * Learn a polynomial regression model to sqft vs price with that degree on TRAIN data\n",
    "    * Compute the RSS on VALIDATION data (here you will want to use .predict()) for that degree and you will need to make a polynmial SFrame using validation data.\n",
    "* Report which degree had the lowest RSS on validation data (remember python indexes from 0)\n",
    "\n",
    "(Note you can turn off the print out of linear_regression.create() with verbose = False)"
   ]
  },
  {
   "cell_type": "code",
   "execution_count": 91,
   "metadata": {},
   "outputs": [],
   "source": [
    "def get_residuals_sum_of_squares(model,data,output):\n",
    "    predictions=model.predict(data)\n",
    "    res=output-predictions\n",
    "    RSS=(res*res).sum()\n",
    "    return RSS #, predictions"
   ]
  },
  {
   "cell_type": "code",
   "execution_count": 92,
   "metadata": {},
   "outputs": [
    {
     "name": "stdout",
     "output_type": "stream",
     "text": [
      "Index(['power_1'], dtype='object')\n",
      "1 price    6.161006e+13\n",
      "dtype: float64\n",
      "Index(['power_1', 'power_2'], dtype='object')\n",
      "2 price    6.777314e+13\n",
      "dtype: float64\n",
      "Index(['power_1', 'power_2', 'power_3'], dtype='object')\n",
      "3 price    9.060331e+13\n",
      "dtype: float64\n",
      "Index(['power_1', 'power_2', 'power_3', 'power_4'], dtype='object')\n",
      "4 price    2.424479e+14\n",
      "dtype: float64\n",
      "Index(['power_1', 'power_2', 'power_3', 'power_4', 'power_5'], dtype='object')\n",
      "5 price    8.189583e+13\n",
      "dtype: float64\n",
      "Index(['power_1', 'power_2', 'power_3', 'power_4', 'power_5', 'power_6'], dtype='object')\n",
      "6 price    8.179490e+13\n",
      "dtype: float64\n",
      "Index(['power_1', 'power_2', 'power_3', 'power_4', 'power_5', 'power_6',\n",
      "       'power_7'],\n",
      "      dtype='object')\n",
      "7 price    8.172514e+13\n",
      "dtype: float64\n",
      "Index(['power_1', 'power_2', 'power_3', 'power_4', 'power_5', 'power_6',\n",
      "       'power_7', 'power_8'],\n",
      "      dtype='object')\n",
      "8 price    8.116831e+13\n",
      "dtype: float64\n",
      "Index(['power_1', 'power_2', 'power_3', 'power_4', 'power_5', 'power_6',\n",
      "       'power_7', 'power_8', 'power_9'],\n",
      "      dtype='object')\n",
      "9 price    8.148827e+13\n",
      "dtype: float64\n",
      "Index(['power_1', 'power_2', 'power_3', 'power_4', 'power_5', 'power_6',\n",
      "       'power_7', 'power_8', 'power_9', 'power_10'],\n",
      "      dtype='object')\n",
      "10 price    8.152841e+13\n",
      "dtype: float64\n",
      "Index(['power_1', 'power_2', 'power_3', 'power_4', 'power_5', 'power_6',\n",
      "       'power_7', 'power_8', 'power_9', 'power_10', 'power_11'],\n",
      "      dtype='object')\n",
      "11 price    8.145090e+13\n",
      "dtype: float64\n",
      "Index(['power_1', 'power_2', 'power_3', 'power_4', 'power_5', 'power_6',\n",
      "       'power_7', 'power_8', 'power_9', 'power_10', 'power_11', 'power_12'],\n",
      "      dtype='object')\n",
      "12 price    8.121555e+13\n",
      "dtype: float64\n",
      "Index(['power_1', 'power_2', 'power_3', 'power_4', 'power_5', 'power_6',\n",
      "       'power_7', 'power_8', 'power_9', 'power_10', 'power_11', 'power_12',\n",
      "       'power_13'],\n",
      "      dtype='object')\n",
      "13 price    8.159130e+13\n",
      "dtype: float64\n",
      "Index(['power_1', 'power_2', 'power_3', 'power_4', 'power_5', 'power_6',\n",
      "       'power_7', 'power_8', 'power_9', 'power_10', 'power_11', 'power_12',\n",
      "       'power_13', 'power_14'],\n",
      "      dtype='object')\n",
      "14 price    8.162644e+13\n",
      "dtype: float64\n",
      "Index(['power_1', 'power_2', 'power_3', 'power_4', 'power_5', 'power_6',\n",
      "       'power_7', 'power_8', 'power_9', 'power_10', 'power_11', 'power_12',\n",
      "       'power_13', 'power_14', 'power_15'],\n",
      "      dtype='object')\n",
      "15 price    8.155166e+13\n",
      "dtype: float64\n"
     ]
    }
   ],
   "source": [
    "for degree in range(1,15+1):\n",
    "    poly_train=polynomial_frame(x_training['sqft_living'],degree)\n",
    "    my_features=poly_train.columns\n",
    "    print (my_features)\n",
    "\n",
    "    model_valid1 =LinearRegression()\n",
    "    model_valid1.fit(poly_train , y_training)\n",
    "\n",
    "    poly_valid=polynomial_frame(x_validation['sqft_living'],degree)\n",
    "    \n",
    "\n",
    "    #print(degree, get_residuals_sum_of_squares(model2,poly_valid,validation['price']))\n",
    "    print(degree, get_residuals_sum_of_squares(model_valid1,poly_valid,y_validation))"
   ]
  },
  {
   "cell_type": "code",
   "execution_count": 93,
   "metadata": {
    "scrolled": true
   },
   "outputs": [
    {
     "name": "stdout",
     "output_type": "stream",
     "text": [
      "[[ 403363.90416012]\n",
      " [ 438464.04968276]\n",
      " [ 400052.17166577]\n",
      " ...\n",
      " [ 431517.38065896]\n",
      " [1464222.0860009 ]\n",
      " [ 400052.17166577]]\n"
     ]
    }
   ],
   "source": [
    "p_v = model_valid1.predict(poly_valid)\n",
    "print(p_v)"
   ]
  },
  {
   "cell_type": "code",
   "execution_count": 94,
   "metadata": {},
   "outputs": [
    {
     "name": "stdout",
     "output_type": "stream",
     "text": [
      "[[ 1.34101926e-05  2.30080393e-02  1.18138912e-05 -8.25092083e-10\n",
      "  -1.18600271e-13 -6.38892903e-16 -3.78250529e-16  2.65765720e-15\n",
      "   2.05878019e-15  1.11696100e-16 -5.13661370e-17  8.61849331e-16\n",
      "   1.79725804e-15 -3.98170244e-16 -2.38090756e-15]] \n",
      " [299953.67318408]\n"
     ]
    }
   ],
   "source": [
    "print(model_valid1.coef_ ,'\\n', model_valid1.intercept_)"
   ]
  },
  {
   "cell_type": "markdown",
   "metadata": {},
   "source": [
    "**Quiz Question: Which degree (1, 2, …, 15) had the lowest RSS on Validation data?**"
   ]
  },
  {
   "cell_type": "markdown",
   "metadata": {},
   "source": [
    "Now that you have chosen the degree of your polynomial using validation data, compute the RSS of this model on TEST data. Report the RSS on your quiz."
   ]
  },
  {
   "cell_type": "code",
   "execution_count": 95,
   "metadata": {},
   "outputs": [
    {
     "data": {
      "text/plain": [
       "8"
      ]
     },
     "execution_count": 95,
     "metadata": {},
     "output_type": "execute_result"
    }
   ],
   "source": [
    "8"
   ]
  },
  {
   "cell_type": "markdown",
   "metadata": {},
   "source": [
    "**Quiz Question: what is the RSS on TEST data for the model with the degree selected from Validation data?**"
   ]
  },
  {
   "cell_type": "code",
   "execution_count": 96,
   "metadata": {},
   "outputs": [
    {
     "data": {
      "text/plain": [
       "array([ 1.49596396e-05,  2.57259154e-02,  1.07929956e-05, -7.29895389e-10,\n",
       "       -1.17087789e-13, -4.55030375e-16, -3.58583386e-16,  2.56871505e-15])"
      ]
     },
     "execution_count": 96,
     "metadata": {},
     "output_type": "execute_result"
    }
   ],
   "source": [
    "poly_frame= polynomial_frame(x_training['sqft_living'], 8)\n",
    "my_features = poly_frame.columns\n",
    "y8 = y_training['price']\n",
    "model_8 = LinearRegression()\n",
    "model_8.fit(poly_frame,y8)\n",
    "model_8.coef_\n"
   ]
  },
  {
   "cell_type": "code",
   "execution_count": 97,
   "metadata": {},
   "outputs": [
    {
     "name": "stdout",
     "output_type": "stream",
     "text": [
      "1303626033250476.2\n"
     ]
    }
   ],
   "source": [
    "poly_test_frame = polynomial_frame(x_testing['sqft_living'], 8)\n",
    "print (get_residuals_sum_of_squares(model_6, poly_test_frame, y_testing['price']))"
   ]
  },
  {
   "cell_type": "code",
   "execution_count": null,
   "metadata": {},
   "outputs": [],
   "source": []
  }
 ],
 "metadata": {
  "kernelspec": {
   "display_name": "Python 3",
   "language": "python",
   "name": "python3"
  },
  "language_info": {
   "codemirror_mode": {
    "name": "ipython",
    "version": 3
   },
   "file_extension": ".py",
   "mimetype": "text/x-python",
   "name": "python",
   "nbconvert_exporter": "python",
   "pygments_lexer": "ipython3",
   "version": "3.6.7"
  }
 },
 "nbformat": 4,
 "nbformat_minor": 1
}
